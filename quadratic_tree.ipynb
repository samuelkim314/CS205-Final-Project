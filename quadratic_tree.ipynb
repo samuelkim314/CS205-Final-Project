{
 "cells": [
  {
   "cell_type": "code",
   "execution_count": 125,
   "metadata": {
    "collapsed": true
   },
   "outputs": [],
   "source": [
    "from sklearn.tree import DecisionTreeClassifier as Tree\n",
    "from sklearn.ensemble import RandomForestClassifier as Forest\n",
    "import numpy as np\n",
    "import pandas as pd\n",
    "import matplotlib.pyplot as plt\n",
    "import sklearn\n",
    "import time\n",
    "%matplotlib qt\n",
    "\n",
    "def Rotate(coords,theta):\n",
    "    out = np.zeros(coords.shape)\n",
    "    out[:,0] = coords[:,0]*np.cos(theta) + coords[:,1]*np.sin(theta)\n",
    "    out[:,1] = -coords[:,0]*np.sin(theta) + coords[:,1]*np.cos(theta)\n",
    "    return out\n",
    "\n",
    "def permutation_importance(tree,test_data,test_target): # estimate variable importance using test data\n",
    "    is_verbose = tree.get_params()['verbose']\n",
    "    tree.set_params(verbose=False)\n",
    "    importances = np.zeros(test_data.shape[1])\n",
    "    original_score = tree.score(test_data,test_target)\n",
    "    for i in xrange(test_data.shape[1]): # scramble each column and get % increase in error rate (Breinman importance)\n",
    "        local = test_data.copy()\n",
    "        np.random.shuffle(local[:,i])\n",
    "        importances[i] = (original_score - tree.score(local,test_target))/(1-original_score)\n",
    "    tree.set_params(verbose=is_verbose)\n",
    "    return importances\n",
    "\n",
    "train_data = pd.read_csv('train.csv')\n",
    "train_labels = pd.read_csv('train_label.csv')\n",
    "N = train_data.shape[0]\n",
    "\n",
    "X = train_data['longitude']\n",
    "Y = train_data['latitude']\n",
    "XY = np.array([X,Y]).T\n",
    "target = np.zeros(X.shape[0],dtype=np.int)\n",
    "target[np.array(train_labels['status_group']=='non functional')] = 0\n",
    "target[np.array(train_labels['status_group']=='functional needs repair')] = 1\n",
    "target[np.array(train_labels['status_group']=='functional')] = 2"
   ]
  },
  {
   "cell_type": "code",
   "execution_count": 139,
   "metadata": {
    "collapsed": true
   },
   "outputs": [],
   "source": [
    "s = 0.8\n",
    "random_indices = np.arange(0,N)\n",
    "np.random.shuffle(random_indices)\n",
    "train_ind = random_indices[0:int(s*N)]\n",
    "test_ind = random_indices[int(s*N):]\n",
    "\n",
    "Ru = np.random.uniform(0.0,1.0,size=N) # random continuous data\n",
    "Rb = np.random.binomial(1,0.5,size=N) # random binary data\n",
    "Ri = np.arange(0,N)\n",
    "np.random.shuffle(Ri)\n",
    "not_GPS_data = np.array([Ru,Rb,Ri]).T"
   ]
  },
  {
   "cell_type": "code",
   "execution_count": 140,
   "metadata": {
    "collapsed": false
   },
   "outputs": [],
   "source": [
    "P2 = np.c_[X, Y, X+Y, X*Y, X*X+Y, Y*Y+X]#, not_GPS_data]"
   ]
  },
  {
   "cell_type": "code",
   "execution_count": null,
   "metadata": {
    "collapsed": true
   },
   "outputs": [],
   "source": []
  },
  {
   "cell_type": "code",
   "execution_count": 143,
   "metadata": {
    "collapsed": false
   },
   "outputs": [
    {
     "name": "stderr",
     "output_type": "stream",
     "text": [
      "[Parallel(n_jobs=4)]: Done   1 out of 100 | elapsed:    0.2s remaining:   18.0s\n",
      "[Parallel(n_jobs=4)]: Done 100 out of 100 | elapsed:    4.4s finished\n"
     ]
    },
    {
     "data": {
      "text/plain": [
       "RandomForestClassifier(bootstrap=True, class_weight=None, criterion='gini',\n",
       "            max_depth=None, max_features=3, max_leaf_nodes=None,\n",
       "            min_samples_leaf=1, min_samples_split=2,\n",
       "            min_weight_fraction_leaf=0.0, n_estimators=100, n_jobs=4,\n",
       "            oob_score=True, random_state=None, verbose=True,\n",
       "            warm_start=False)"
      ]
     },
     "execution_count": 143,
     "metadata": {},
     "output_type": "execute_result"
    }
   ],
   "source": [
    "qforest = Forest(n_estimators=100,criterion='gini',oob_score=True,max_features=3,verbose=True,n_jobs=4)\n",
    "qforest.fit(P2[train_ind,:],target[train_ind])"
   ]
  },
  {
   "cell_type": "code",
   "execution_count": 144,
   "metadata": {
    "collapsed": false
   },
   "outputs": [
    {
     "name": "stderr",
     "output_type": "stream",
     "text": [
      "[Parallel(n_jobs=4)]: Done   1 out of  12 | elapsed:    0.0s remaining:    0.1s\n",
      "[Parallel(n_jobs=4)]: Done 100 out of 100 | elapsed:    0.2s finished\n"
     ]
    },
    {
     "data": {
      "text/plain": [
       "0.67289562289562288"
      ]
     },
     "execution_count": 144,
     "metadata": {},
     "output_type": "execute_result"
    }
   ],
   "source": [
    "qforest.score(P2[test_ind,:],target[test_ind])"
   ]
  },
  {
   "cell_type": "code",
   "execution_count": 137,
   "metadata": {
    "collapsed": false
   },
   "outputs": [
    {
     "data": {
      "text/plain": [
       "array([ 0.17366609,  0.15679718,  0.18894286,  0.15807817,  0.17051755,\n",
       "        0.15199815])"
      ]
     },
     "execution_count": 137,
     "metadata": {},
     "output_type": "execute_result"
    }
   ],
   "source": [
    "qforest.feature_importances_"
   ]
  },
  {
   "cell_type": "code",
   "execution_count": 138,
   "metadata": {
    "collapsed": false
   },
   "outputs": [
    {
     "name": "stdout",
     "output_type": "stream",
     "text": [
      "[ 0.93989983  0.27045075  1.          0.48080134  0.56761269  0.09348915]\n"
     ]
    }
   ],
   "source": [
    "pi=permutation_importance(qforest,P2[test_ind,:],target[test_ind])\n",
    "print pi/np.max(pi)"
   ]
  },
  {
   "cell_type": "code",
   "execution_count": 124,
   "metadata": {
    "collapsed": false
   },
   "outputs": [
    {
     "data": {
      "text/plain": [
       "True"
      ]
     },
     "execution_count": 124,
     "metadata": {},
     "output_type": "execute_result"
    }
   ],
   "source": [
    "qforest.get_params()['verbose']"
   ]
  },
  {
   "cell_type": "code",
   "execution_count": 10,
   "metadata": {
    "collapsed": false
   },
   "outputs": [
    {
     "data": {
      "text/plain": [
       "array([ 19.07275377,  25.62822108,  26.4666061 ,  16.06312031,\n",
       "        17.71412804,  17.57257608,  15.70427369,   8.13137713])"
      ]
     },
     "execution_count": 10,
     "metadata": {},
     "output_type": "execute_result"
    }
   ],
   "source": [
    "zscores"
   ]
  },
  {
   "cell_type": "code",
   "execution_count": 11,
   "metadata": {
    "collapsed": false
   },
   "outputs": [
    {
     "data": {
      "text/plain": [
       "array([[ 0.6       ,  0.3       ,  0.1       ],\n",
       "       [ 0.        ,  0.        ,  1.        ],\n",
       "       [ 0.4       ,  0.        ,  0.6       ],\n",
       "       ..., \n",
       "       [ 0.66666667,  0.        ,  0.33333333],\n",
       "       [ 0.63636364,  0.18181818,  0.18181818],\n",
       "       [ 0.6       ,  0.        ,  0.4       ]])"
      ]
     },
     "execution_count": 11,
     "metadata": {},
     "output_type": "execute_result"
    }
   ],
   "source": [
    "qforest.oob_decision_function_"
   ]
  },
  {
   "cell_type": "code",
   "execution_count": 50,
   "metadata": {
    "collapsed": false
   },
   "outputs": [
    {
     "name": "stderr",
     "output_type": "stream",
     "text": [
      "[Parallel(n_jobs=4)]: Done   1 out of   8 | elapsed:    0.0s remaining:    0.0s\n",
      "[Parallel(n_jobs=4)]: Done  50 out of  50 | elapsed:    0.0s finished\n"
     ]
    },
    {
     "data": {
      "text/plain": [
       "array([[15388, 16997, 14944,  8185, 15251,  6356,  9922, 18248,  6719,\n",
       "        19148, 16496,  8472, 16155, 19325,  5652,  9790, 14662,  3874,\n",
       "        10524, 15453,  8006,  8264,  4763, 12829,  6161, 16463,  6833,\n",
       "        10144, 17412, 15405,   309,   655, 17003, 11583, 15733, 15679,\n",
       "         5784, 18875,  9882, 17494,   965, 12543, 19217, 15325, 13614,\n",
       "        16398, 15456,  1265, 17736,  4916]])"
      ]
     },
     "execution_count": 50,
     "metadata": {},
     "output_type": "execute_result"
    }
   ],
   "source": []
  },
  {
   "cell_type": "code",
   "execution_count": 40,
   "metadata": {
    "collapsed": true
   },
   "outputs": [],
   "source": [
    "T = qforest.estimators_[0]"
   ]
  },
  {
   "cell_type": "code",
   "execution_count": 92,
   "metadata": {
    "collapsed": false
   },
   "outputs": [
    {
     "name": "stdout",
     "output_type": "stream",
     "text": [
      "[-2, 0, 1, 2, 3, 4, 5, 6, 7, 8]\n",
      "-----------------------------------------------------------\n",
      "[ 1.0001085   0.10827818  0.11348595  0.12303353  0.11272648  0.11760877\n",
      "  0.11164153  0.14429858  0.02495389  0.14397309]\n",
      "[ 1.00010752  0.1116009   0.10998817  0.11708418  0.11375121  0.1171917\n",
      "  0.11643909  0.14536071  0.02644877  0.14213525]\n",
      "[ 1.00010872  0.11643836  0.11404653  0.11785171  0.11252446  0.12046097\n",
      "  0.10969776  0.13872581  0.02826701  0.14198739]\n",
      "[ 1.00010753  0.11483871  0.10677419  0.11860215  0.11688172  0.12182796\n",
      "  0.10978495  0.1444086   0.02483871  0.14204301]\n",
      "[ 1.00010852  0.10971243  0.10602279  0.12707542  0.11578947  0.11427021\n",
      "  0.11220836  0.14107434  0.0284319   0.14541508]\n",
      "[ 1.00010808  0.11575875  0.1104626   0.12278426  0.11846087  0.11608301\n",
      "  0.10948984  0.14169909  0.02702118  0.13824038]\n",
      "[ 1.00010893  0.11285403  0.10947712  0.12298475  0.11742919  0.11111111\n",
      "  0.11122004  0.14237473  0.02875817  0.14379085]\n",
      "[ 1.00010873  0.11840818  0.11405893  0.11927803  0.11057954  0.1188431\n",
      "  0.11047081  0.13895836  0.02663912  0.14276394]\n",
      "[ 1.00010768  0.11403037  0.11133843  0.12329062  0.11284591  0.11801443\n",
      "  0.10660062  0.147195    0.023366    0.14331862]\n",
      "[ 1.00010936  0.11712598  0.11253281  0.12128171  0.11067367  0.11439195\n",
      "  0.10925197  0.14566929  0.02712161  0.14195101]\n",
      "[ 1.00010783  0.11235713  0.11332758  0.1172094   0.11591546  0.11569981\n",
      "  0.11343541  0.14233341  0.02383006  0.14589174]\n",
      "[ 1.0001077   0.11362412  0.11265482  0.12417878  0.11243942  0.1093161\n",
      "  0.11103931  0.1450727   0.02692515  0.1447496 ]\n",
      "[ 1.00010792  0.11979279  0.11515217  0.11256205  0.11925318  0.11526009\n",
      "  0.10813728  0.14547809  0.02395856  0.14040578]\n",
      "[ 1.00010343  0.11956971  0.10746794  0.12143153  0.11026065  0.11905254\n",
      "  0.11346711  0.13518825  0.02875465  0.14480761]\n",
      "[ 1.00010817  0.11573824  0.11032991  0.12601406  0.1142239   0.1148729\n",
      "  0.11054624  0.13683072  0.02541915  0.14602488]\n",
      "[ 1.00010823  0.12045455  0.11201299  0.12575758  0.10941558  0.11244589\n",
      "  0.11255411  0.14101732  0.02424242  0.14209957]\n",
      "[ 1.00010814  0.11560506  0.11365848  0.1197145   0.10727804  0.11690278\n",
      "  0.11300962  0.14588515  0.02400779  0.14393857]\n",
      "[ 1.00010794  0.11420553  0.1117228   0.1240285   0.11452936  0.11042746\n",
      "  0.10945596  0.14885579  0.02590674  0.14086788]\n",
      "[ 1.00010955  0.11470202  0.11207274  0.12094654  0.11930324  0.11130587\n",
      "  0.10714286  0.1466915   0.02738826  0.14044698]\n",
      "[ 1.00010982  0.11377114  0.11410059  0.12047002  0.11486932  0.12068966\n",
      "  0.10597408  0.13924885  0.02756424  0.1433121 ]\n",
      "[ 1.00010961  0.11958785  0.11366875  0.11290146  0.11016113  0.11377836\n",
      "  0.11191494  0.14216815  0.02532062  0.15049874]\n",
      "[ 1.00010814  0.11560506  0.11192819  0.12382394  0.11409106  0.11192819\n",
      "  0.11073862  0.14566887  0.02260192  0.14361415]\n",
      "[ 1.00010743  0.11581435  0.10861624  0.12258272  0.11302106  0.11667383\n",
      "  0.10571551  0.14664804  0.02707349  0.14385475]\n",
      "[ 1.00010785  0.11389129  0.11583261  0.12273512  0.11065574  0.11292062\n",
      "  0.11205781  0.14441329  0.02707075  0.14042278]\n",
      "[ 1.00010733  0.11495116  0.11988838  0.11720511  0.11838575  0.11387786\n",
      "  0.10818933  0.14156917  0.02511538  0.14081786]\n",
      "[ 1.00010883  0.11296115  0.11426706  0.12199369  0.10926107  0.11296115\n",
      "  0.12112308  0.14343236  0.0244858   0.13951464]\n",
      "[ 1.00010879  0.11488251  0.11466493  0.11727589  0.1137946   0.11314186\n",
      "  0.11216275  0.14218886  0.02589208  0.14599652]\n",
      "[ 1.00010889  0.1198824   0.11247822  0.11378484  0.10736063  0.11574477\n",
      "  0.11106272  0.14732143  0.02449913  0.14786585]\n",
      "[ 1.0001087   0.11402174  0.1101087   0.12793478  0.1098913   0.11565217\n",
      "  0.11347826  0.13967391  0.02913043  0.1401087 ]\n",
      "[ 1.00010824  0.11332395  0.11516398  0.11732872  0.11776166  0.11927698\n",
      "  0.11310748  0.14016668  0.02868276  0.13518779]\n",
      "[ 1.00010842  0.11406267  0.10853302  0.12718204  0.11568904  0.11146048\n",
      "  0.11005096  0.14095197  0.02374499  0.14832484]\n",
      "[ 1.00010747  0.11230521  0.11252015  0.11628157  0.11273509  0.11950564\n",
      "  0.11295003  0.14390113  0.02342826  0.14637292]\n",
      "[ 1.00011033  0.11341571  0.1129744   0.12058694  0.11319506  0.11352604\n",
      "  0.10834069  0.14199029  0.02669903  0.14927184]\n",
      "[ 1.00010953  0.12092004  0.11456736  0.11445783  0.11314348  0.11303395\n",
      "  0.11796276  0.1415115   0.02464403  0.13975904]\n",
      "[ 1.00010771  0.10814304  0.11600603  0.1263464   0.11385179  0.1139595\n",
      "  0.1130978   0.14562688  0.02305041  0.13991814]\n",
      "[ 1.00010817  0.1148729   0.11238507  0.12212006  0.11130341  0.11638724\n",
      "  0.10643591  0.14461871  0.02671714  0.14515955]\n",
      "[ 1.00010808  0.11500216  0.10397752  0.11878513  0.11370514  0.11716386\n",
      "  0.11024643  0.14407696  0.02993947  0.14710333]\n",
      "[ 1.00010855  0.11550152  0.11267911  0.12852801  0.11267911  0.11300478\n",
      "  0.11115936  0.14112028  0.02431611  0.14101172]\n",
      "[ 1.00010747  0.11316497  0.11144546  0.12025793  0.11004836  0.11660398\n",
      "  0.10961848  0.14981193  0.02686728  0.14218162]\n",
      "[ 1.00010812  0.11428263  0.11558006  0.12390529  0.11503946  0.11309331\n",
      "  0.10314629  0.14401557  0.02616499  0.14477241]\n",
      "[ 1.00010881  0.11240479  0.11229597  0.12437432  0.11066376  0.11828074\n",
      "  0.11131665  0.1476605   0.02393906  0.1390642 ]\n",
      "[ 1.00010815  0.11313     0.11118321  0.11572572  0.10945274  0.12026822\n",
      "  0.10685702  0.14438676  0.02920182  0.14979451]\n",
      "[ 1.00010917  0.11058952  0.11572052  0.11572052  0.11146288  0.12423581\n",
      "  0.11091703  0.14399563  0.02631004  0.14104803]\n",
      "[ 1.0001085   0.11663231  0.10534881  0.12704785  0.11099056  0.1146794\n",
      "  0.1146794   0.14343062  0.02386894  0.14332212]\n",
      "[ 1.00010893  0.11590414  0.11198257  0.11590414  0.11982571  0.11721133\n",
      "  0.1130719   0.13943355  0.02418301  0.14248366]\n",
      "[ 1.00010727  0.11564042  0.11349496  0.1197168   0.11424587  0.11907316\n",
      "  0.10877494  0.1436387   0.02402918  0.14138597]\n",
      "[ 1.00010832  0.11936742  0.10842721  0.11535962  0.11785095  0.11221837\n",
      "  0.10972704  0.14828856  0.0252383   0.14352253]\n",
      "[ 1.00010752  0.1171917   0.11461133  0.12170734  0.10719277  0.1116009\n",
      "  0.10568756  0.15492958  0.02440598  0.14267283]\n",
      "[ 1.00010903  0.11164413  0.10880942  0.11774967  0.11807676  0.11644134\n",
      "  0.11153511  0.14282599  0.02496729  0.14795028]\n",
      "[ 1.0001083   0.11425168  0.11544293  0.1255144   0.10829543  0.11468486\n",
      "  0.11273554  0.14089235  0.02718215  0.14100065]\n"
     ]
    }
   ],
   "source": [
    "# Print number of times each tree split on each of the categories\n",
    "print [-2]+range(P2.shape[1])\n",
    "print '-----------------------------------------------------------'\n",
    "for T in qforest.estimators_:\n",
    "    print [np.sum(T.tree_.feature==f) for f in [-2]+range(P2.shape[1])]/np.sum(T.tree_.feature>-1,dtype=np.float)"
   ]
  },
  {
   "cell_type": "code",
   "execution_count": 77,
   "metadata": {
    "collapsed": false
   },
   "outputs": [
    {
     "data": {
      "text/plain": [
       "array([0, 3, 3])"
      ]
     },
     "execution_count": 77,
     "metadata": {},
     "output_type": "execute_result"
    }
   ],
   "source": []
  },
  {
   "cell_type": "code",
   "execution_count": 83,
   "metadata": {
    "collapsed": false
   },
   "outputs": [
    {
     "ename": "ValueError",
     "evalue": "The first argument of bincount must be non-negative",
     "output_type": "error",
     "traceback": [
      "\u001b[1;31m---------------------------------------------------------------------------\u001b[0m",
      "\u001b[1;31mValueError\u001b[0m                                Traceback (most recent call last)",
      "\u001b[1;32m<ipython-input-83-0732f25cadfa>\u001b[0m in \u001b[0;36m<module>\u001b[1;34m()\u001b[0m\n\u001b[1;32m----> 1\u001b[1;33m \u001b[0mnp\u001b[0m\u001b[1;33m.\u001b[0m\u001b[0mbincount\u001b[0m\u001b[1;33m(\u001b[0m\u001b[0mT\u001b[0m\u001b[1;33m.\u001b[0m\u001b[0mtree_\u001b[0m\u001b[1;33m.\u001b[0m\u001b[0mfeature\u001b[0m\u001b[1;33m)\u001b[0m\u001b[1;33m\u001b[0m\u001b[0m\n\u001b[0m",
      "\u001b[1;31mValueError\u001b[0m: The first argument of bincount must be non-negative"
     ]
    }
   ],
   "source": [
    "np.bincount(T.tree_.feature)"
   ]
  },
  {
   "cell_type": "code",
   "execution_count": null,
   "metadata": {
    "collapsed": true
   },
   "outputs": [],
   "source": []
  }
 ],
 "metadata": {
  "kernelspec": {
   "display_name": "Python 2",
   "language": "python",
   "name": "python2"
  },
  "language_info": {
   "codemirror_mode": {
    "name": "ipython",
    "version": 2
   },
   "file_extension": ".py",
   "mimetype": "text/x-python",
   "name": "python",
   "nbconvert_exporter": "python",
   "pygments_lexer": "ipython2",
   "version": "2.7.8"
  }
 },
 "nbformat": 4,
 "nbformat_minor": 0
}
