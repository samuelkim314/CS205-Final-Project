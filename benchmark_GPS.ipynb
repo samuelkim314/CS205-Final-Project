{
 "cells": [
  {
   "cell_type": "code",
   "execution_count": 19,
   "metadata": {
    "collapsed": true
   },
   "outputs": [],
   "source": [
    "import numpy as np\n",
    "import matplotlib.pyplot as plt\n",
    "from sklearn.ensemble import RandomForestClassifier as Forest"
   ]
  },
  {
   "cell_type": "code",
   "execution_count": 20,
   "metadata": {
    "collapsed": true
   },
   "outputs": [],
   "source": [
    "%matplotlib qt"
   ]
  },
  {
   "cell_type": "code",
   "execution_count": 85,
   "metadata": {
    "collapsed": false
   },
   "outputs": [],
   "source": [
    "post_mrmr = np.load('processed_train_data')\n",
    "target = np.load('processed_targets')\n",
    "# Column      Feature\n",
    "#   0           id\n",
    "#   1       amount_tsh\n",
    "#   2      date recorded\n",
    "#   3       gps_height\n",
    "#   4       longitude\n",
    "#   5        latitude\n",
    "#   6        population\n",
    "#   7    construction year\n",
    "#   8-9    rotation 1\n",
    "# 10-11    rotation 2\n",
    "# 12-13    rotation 3\n",
    "# 14-15    rotation 4\n",
    "# 16-18    1/d by class\n",
    "# 19-21    short_sigmoid by class\n",
    "# 22-24    long_sigmoid by class\n",
    "# 25-27    NN by class"
   ]
  },
  {
   "cell_type": "code",
   "execution_count": 77,
   "metadata": {
    "collapsed": false
   },
   "outputs": [
    {
     "data": {
      "text/plain": [
       "array([ 0.26674073,  0.48061879,  0.52061743,  0.29243779,  0.91912138,\n",
       "        0.35825617,  0.34887252,  0.59733005,  0.7796757 ,  0.40829032,\n",
       "        0.14706701,  0.48169796,  0.66271635,  0.29327937,  1.68885862,\n",
       "        0.86615059,  0.34626475,  0.43008496,  0.1532668 ,  0.89737101,\n",
       "        0.38637802,  0.        ,  0.36375111,  0.16015436,  0.57380795,\n",
       "        0.1339315 ,  1.24771772,  0.42865829,  0.13501701,  0.23529248])"
      ]
     },
     "execution_count": 77,
     "metadata": {},
     "output_type": "execute_result"
    }
   ],
   "source": [
    "post_mrmr[0:30,18]"
   ]
  },
  {
   "cell_type": "code",
   "execution_count": 50,
   "metadata": {
    "collapsed": false
   },
   "outputs": [
    {
     "data": {
      "text/plain": [
       "[<matplotlib.lines.Line2D at 0x7f78e7ce5610>]"
      ]
     },
     "execution_count": 50,
     "metadata": {},
     "output_type": "execute_result"
    }
   ],
   "source": [
    "plt.plot(post_mrmr[:,14],post_mrmr[:,15],'ko')"
   ]
  },
  {
   "cell_type": "code",
   "execution_count": 70,
   "metadata": {
    "collapsed": false
   },
   "outputs": [
    {
     "data": {
      "text/plain": [
       "array([ 0.02333878,  0.03005595,  0.02583791, ...,  0.00429199,\n",
       "        0.00738748,  0.01280966])"
      ]
     },
     "execution_count": 70,
     "metadata": {},
     "output_type": "execute_result"
    }
   ],
   "source": [
    "post_mrmr[:,24]"
   ]
  },
  {
   "cell_type": "code",
   "execution_count": 80,
   "metadata": {
    "collapsed": false
   },
   "outputs": [
    {
     "data": {
      "text/plain": [
       "[<matplotlib.lines.Line2D at 0x7f78e6fd4290>]"
      ]
     },
     "execution_count": 80,
     "metadata": {},
     "output_type": "execute_result"
    }
   ],
   "source": [
    "plt.plot(post_mrmr[:,16])"
   ]
  },
  {
   "cell_type": "code",
   "execution_count": 92,
   "metadata": {
    "collapsed": false
   },
   "outputs": [],
   "source": [
    "plt.figure()\n",
    "for t,c in enumerate(['ro','yo','bo']):\n",
    "    plt.plot(post_mrmr[target==t,27],post_mrmr[target==t,25],c,alpha=0.1)"
   ]
  },
  {
   "cell_type": "code",
   "execution_count": 93,
   "metadata": {
    "collapsed": false
   },
   "outputs": [
    {
     "data": {
      "text/plain": [
       "(59400, 95)"
      ]
     },
     "execution_count": 93,
     "metadata": {},
     "output_type": "execute_result"
    }
   ],
   "source": [
    "post_mrmr.shape"
   ]
  },
  {
   "cell_type": "code",
   "execution_count": 128,
   "metadata": {
    "collapsed": false
   },
   "outputs": [
    {
     "name": "stderr",
     "output_type": "stream",
     "text": [
      "[Parallel(n_jobs=4)]: Done   1 out of 200 | elapsed:    0.3s remaining:  1.0min\n",
      "[Parallel(n_jobs=4)]: Done 200 out of 200 | elapsed:   14.7s finished\n"
     ]
    },
    {
     "data": {
      "text/plain": [
       "0.83050505050505052"
      ]
     },
     "execution_count": 128,
     "metadata": {},
     "output_type": "execute_result"
    }
   ],
   "source": [
    "forest = Forest(n_estimators=200, criterion='gini', n_jobs=4,\n",
    "                verbose=True, max_features='auto',bootstrap=True,\n",
    "                min_samples_split=1, min_samples_leaf=1, oob_score=True,\n",
    "                warm_start=True)\n",
    "forest.fit(post_mrmr,target)\n",
    "forest.oob_score_"
   ]
  },
  {
   "cell_type": "code",
   "execution_count": null,
   "metadata": {
    "collapsed": false
   },
   "outputs": [],
   "source": []
  },
  {
   "cell_type": "code",
   "execution_count": 112,
   "metadata": {
    "collapsed": false
   },
   "outputs": [
    {
     "name": "stderr",
     "output_type": "stream",
     "text": [
      "[Parallel(n_jobs=4)]: Done   1 out of 200 | elapsed:    0.1s remaining:   25.6s\n",
      "[Parallel(n_jobs=4)]: Done 200 out of 200 | elapsed:    7.8s finished\n"
     ]
    },
    {
     "name": "stdout",
     "output_type": "stream",
     "text": [
      "[4, 5, 8, 9, 10, 11, 12, 13, 14, 15, 16, 17, 18, 19, 20, 21, 22, 23, 24, 25, 26, 27]\n"
     ]
    },
    {
     "data": {
      "text/plain": [
       "0.79356902356902359"
      ]
     },
     "execution_count": 112,
     "metadata": {},
     "output_type": "execute_result"
    }
   ],
   "source": [
    "# No GPS data at all\n",
    "print [4,5]+range(8,28)\n",
    "no_gps = np.delete(post_mrmr,[4,5]+range(8,28),1)\n",
    "forest = Forest(n_estimators=200, criterion='gini', n_jobs=4,\n",
    "                verbose=True, max_features='auto',bootstrap=True,\n",
    "                min_samples_split=1, min_samples_leaf=1, oob_score=True,\n",
    "                warm_start=True)\n",
    "forest.fit(no_gps,target)\n",
    "forest.oob_score_"
   ]
  },
  {
   "cell_type": "code",
   "execution_count": 117,
   "metadata": {
    "collapsed": false
   },
   "outputs": [
    {
     "name": "stderr",
     "output_type": "stream",
     "text": [
      "[Parallel(n_jobs=4)]: Done   1 out of 200 | elapsed:    0.2s remaining:   39.8s\n",
      "[Parallel(n_jobs=4)]: Done 200 out of 200 | elapsed:    8.8s finished\n"
     ]
    },
    {
     "name": "stdout",
     "output_type": "stream",
     "text": [
      "[8, 9, 10, 11, 12, 13, 14, 15, 16, 17, 18, 19, 20, 21, 22, 23, 24, 25, 26, 27]\n"
     ]
    },
    {
     "data": {
      "text/plain": [
       "0.80806397306397304"
      ]
     },
     "execution_count": 117,
     "metadata": {},
     "output_type": "execute_result"
    }
   ],
   "source": [
    "# with raw GPS\n",
    "print range(8,28)\n",
    "no_gps = np.delete(post_mrmr,range(8,28),1)\n",
    "forest = Forest(n_estimators=200, criterion='gini', n_jobs=4,\n",
    "                verbose=True, max_features='auto',bootstrap=True,\n",
    "                min_samples_split=1, min_samples_leaf=1, oob_score=True,\n",
    "                warm_start=True)\n",
    "forest.fit(no_gps,target)\n",
    "forest.oob_score_"
   ]
  },
  {
   "cell_type": "code",
   "execution_count": 122,
   "metadata": {
    "collapsed": false
   },
   "outputs": [
    {
     "name": "stderr",
     "output_type": "stream",
     "text": [
      "[Parallel(n_jobs=4)]: Done   1 out of 200 | elapsed:    0.4s remaining:  1.4min\n",
      "[Parallel(n_jobs=4)]: Done 200 out of 200 | elapsed:   12.8s finished\n"
     ]
    },
    {
     "name": "stdout",
     "output_type": "stream",
     "text": [
      "[16, 17, 18, 19, 20, 21, 22, 23, 24, 25, 26, 27]\n"
     ]
    },
    {
     "data": {
      "text/plain": [
       "0.81208754208754208"
      ]
     },
     "execution_count": 122,
     "metadata": {},
     "output_type": "execute_result"
    }
   ],
   "source": [
    "# only rotations\n",
    "print range(16,28)\n",
    "no_gps = np.delete(post_mrmr,range(16,28),1)\n",
    "forest = Forest(n_estimators=200, criterion='gini', n_jobs=4,\n",
    "                verbose=True, max_features='auto',bootstrap=True,\n",
    "                min_samples_split=1, min_samples_leaf=1, oob_score=True,\n",
    "                warm_start=True)\n",
    "forest.fit(no_gps,target)\n",
    "forest.oob_score_"
   ]
  },
  {
   "cell_type": "code",
   "execution_count": 125,
   "metadata": {
    "collapsed": false
   },
   "outputs": [
    {
     "name": "stderr",
     "output_type": "stream",
     "text": [
      "[Parallel(n_jobs=4)]: Done   1 out of 200 | elapsed:    0.2s remaining:   35.9s\n",
      "[Parallel(n_jobs=4)]: Done 200 out of 200 | elapsed:   11.4s finished\n"
     ]
    },
    {
     "name": "stdout",
     "output_type": "stream",
     "text": [
      "[4, 5, 8, 9, 10, 11, 12, 13, 14, 15]\n"
     ]
    },
    {
     "data": {
      "text/plain": [
       "0.82489898989898991"
      ]
     },
     "execution_count": 125,
     "metadata": {},
     "output_type": "execute_result"
    }
   ],
   "source": [
    "# only kNN\n",
    "print [4,5] + range(8,16)\n",
    "no_gps = np.delete(post_mrmr,[4,5]+range(8,16),1)\n",
    "forest = Forest(n_estimators=200, criterion='gini', n_jobs=4,\n",
    "                verbose=True, max_features='auto',bootstrap=True,\n",
    "                min_samples_split=1, min_samples_leaf=1, oob_score=True,\n",
    "                warm_start=True)\n",
    "forest.fit(no_gps,target)\n",
    "forest.oob_score_"
   ]
  },
  {
   "cell_type": "code",
   "execution_count": 139,
   "metadata": {
    "collapsed": false
   },
   "outputs": [
    {
     "name": "stdout",
     "output_type": "stream",
     "text": [
      "50 \t0.819730639731\n",
      "100 \t0.828367003367\n",
      "150 \t0.830538720539\n",
      "200 \t0.831430976431\n",
      "250 \t0.832121212121\n",
      "300 \t0.831835016835\n",
      "350 \t0.832037037037\n",
      "400 \t0.831919191919\n",
      "450 \t0.831868686869\n",
      "500 \t0.832121212121\n",
      "550 \t0.832306397306\n",
      "600 \t0.832457912458\n",
      "650 \t0.832188552189\n",
      "700 \t0.832138047138\n",
      "750 \t0.832356902357\n",
      "800 \t0.832272727273\n",
      "850 \t0.832171717172\n",
      "900 \t0.832306397306\n",
      "950 \t0.832356902357\n",
      "1000 \t0.832373737374\n",
      "1050 \t0.832542087542\n",
      "1100 \t0.832373737374\n",
      "1150 \t0.832474747475\n",
      "1200 \t0.832424242424\n",
      "1250 \t0.832508417508\n",
      "1300 \t0.832558922559\n",
      "1350 \t0.832491582492\n",
      "1400 \t0.832491582492\n",
      "1450 \t0.832407407407\n",
      "1500 \t0.832373737374\n",
      "1550 \t0.832390572391\n",
      "1600 \t0.832306397306\n",
      "1650 \t0.832272727273\n",
      "1700 \t0.83234006734\n",
      "1750 \t0.832373737374\n",
      "1800 \t0.832407407407\n",
      "1850 \t0.832356902357\n",
      "1900 \t0.832441077441\n",
      "1950 \t0.832424242424\n",
      "2000 \t0.832323232323\n",
      "2050 \t0.832474747475\n",
      "2100 \t0.832441077441\n",
      "2150 \t0.832457912458\n",
      "2200 \t0.832407407407\n",
      "2250 \t0.832491582492\n",
      "2300 \t0.832508417508\n",
      "2350 \t0.832474747475\n",
      "2400 \t0.832457912458\n",
      "2450 \t0.832457912458\n",
      "2500 \t0.832457912458\n",
      "2550 \t0.832424242424\n",
      "2600 \t0.832424242424\n",
      "2650 \t0.832356902357\n",
      "2700 \t0.832390572391\n",
      "2750 \t0.832424242424\n",
      "2800 \t0.832457912458\n",
      "2850 \t0.832525252525\n",
      "2900 \t0.832508417508\n",
      "2950 \t0.832441077441\n",
      "3000 \t0.832457912458\n",
      "3050 \t0.832441077441\n",
      "3100 \t0.832508417508\n",
      "3150 \t0.832542087542\n",
      "3200 \t0.832508417508\n",
      "3250 \t0.832575757576\n",
      "3300 \t0.832542087542\n",
      "3350 \t0.832525252525\n",
      "3400 \t0.832508417508\n",
      "3450 \t0.832474747475\n"
     ]
    },
    {
     "ename": "KeyboardInterrupt",
     "evalue": "",
     "output_type": "error",
     "traceback": [
      "\u001b[1;31m---------------------------------------------------------------------------\u001b[0m",
      "\u001b[1;31mKeyboardInterrupt\u001b[0m                         Traceback (most recent call last)",
      "\u001b[1;32m<ipython-input-139-125f7d89b672>\u001b[0m in \u001b[0;36m<module>\u001b[1;34m()\u001b[0m\n\u001b[0;32m     11\u001b[0m                 \u001b[0mmin_samples_split\u001b[0m\u001b[1;33m=\u001b[0m\u001b[1;36m1\u001b[0m\u001b[1;33m,\u001b[0m \u001b[0mmin_samples_leaf\u001b[0m\u001b[1;33m=\u001b[0m\u001b[1;36m1\u001b[0m\u001b[1;33m,\u001b[0m \u001b[0moob_score\u001b[0m\u001b[1;33m=\u001b[0m\u001b[0mTrue\u001b[0m\u001b[1;33m,\u001b[0m\u001b[1;33m\u001b[0m\u001b[0m\n\u001b[0;32m     12\u001b[0m                 warm_start=False)\n\u001b[1;32m---> 13\u001b[1;33m     \u001b[0mforest\u001b[0m\u001b[1;33m.\u001b[0m\u001b[0mfit\u001b[0m\u001b[1;33m(\u001b[0m\u001b[0mpost_mrmr\u001b[0m\u001b[1;33m,\u001b[0m\u001b[0mtarget\u001b[0m\u001b[1;33m)\u001b[0m\u001b[1;33m\u001b[0m\u001b[0m\n\u001b[0m\u001b[0;32m     14\u001b[0m     \u001b[0moob_votes\u001b[0m \u001b[1;33m+=\u001b[0m \u001b[0mforest\u001b[0m\u001b[1;33m.\u001b[0m\u001b[0moob_decision_function_\u001b[0m\u001b[1;33m\u001b[0m\u001b[0m\n\u001b[0;32m     15\u001b[0m     oob_score += [np.sum(np.argmax(oob_votes,axis=1)==target,dtype=np.float)\n",
      "\u001b[1;32m/usr/local/lib/python2.7/dist-packages/sklearn/ensemble/forest.pyc\u001b[0m in \u001b[0;36mfit\u001b[1;34m(self, X, y, sample_weight)\u001b[0m\n\u001b[0;32m    277\u001b[0m \u001b[1;33m\u001b[0m\u001b[0m\n\u001b[0;32m    278\u001b[0m         \u001b[1;32mif\u001b[0m \u001b[0mself\u001b[0m\u001b[1;33m.\u001b[0m\u001b[0moob_score\u001b[0m\u001b[1;33m:\u001b[0m\u001b[1;33m\u001b[0m\u001b[0m\n\u001b[1;32m--> 279\u001b[1;33m             \u001b[0mself\u001b[0m\u001b[1;33m.\u001b[0m\u001b[0m_set_oob_score\u001b[0m\u001b[1;33m(\u001b[0m\u001b[0mX\u001b[0m\u001b[1;33m,\u001b[0m \u001b[0my\u001b[0m\u001b[1;33m)\u001b[0m\u001b[1;33m\u001b[0m\u001b[0m\n\u001b[0m\u001b[0;32m    280\u001b[0m \u001b[1;33m\u001b[0m\u001b[0m\n\u001b[0;32m    281\u001b[0m         \u001b[1;31m# Decapsulate classes_ attributes\u001b[0m\u001b[1;33m\u001b[0m\u001b[1;33m\u001b[0m\u001b[0m\n",
      "\u001b[1;32m/usr/local/lib/python2.7/dist-packages/sklearn/ensemble/forest.pyc\u001b[0m in \u001b[0;36m_set_oob_score\u001b[1;34m(self, X, y)\u001b[0m\n\u001b[0;32m    366\u001b[0m             \u001b[0mmask\u001b[0m\u001b[1;33m[\u001b[0m\u001b[0mestimator\u001b[0m\u001b[1;33m.\u001b[0m\u001b[0mindices_\u001b[0m\u001b[1;33m]\u001b[0m \u001b[1;33m=\u001b[0m \u001b[0mFalse\u001b[0m\u001b[1;33m\u001b[0m\u001b[0m\n\u001b[0;32m    367\u001b[0m             \u001b[0mmask_indices\u001b[0m \u001b[1;33m=\u001b[0m \u001b[0msample_indices\u001b[0m\u001b[1;33m[\u001b[0m\u001b[0mmask\u001b[0m\u001b[1;33m]\u001b[0m\u001b[1;33m\u001b[0m\u001b[0m\n\u001b[1;32m--> 368\u001b[1;33m             p_estimator = estimator.predict_proba(X[mask_indices, :],\n\u001b[0m\u001b[0;32m    369\u001b[0m                                                   check_input=False)\n\u001b[0;32m    370\u001b[0m \u001b[1;33m\u001b[0m\u001b[0m\n",
      "\u001b[1;31mKeyboardInterrupt\u001b[0m: "
     ]
    }
   ],
   "source": [
    "# OOB Accuracy vs. number of trees\n",
    "n_trees = 0\n",
    "n = []\n",
    "oob_votes = np.zeros((post_mrmr.shape[0],3))\n",
    "oob_score = []\n",
    "for i in range(1000):\n",
    "    n_trees += 50\n",
    "    n += [n_trees]\n",
    "    forest = Forest(n_estimators=n_trees, criterion='gini', n_jobs=4,\n",
    "                verbose=False, max_features='auto',bootstrap=True,\n",
    "                min_samples_split=1, min_samples_leaf=1, oob_score=True,\n",
    "                warm_start=False)\n",
    "    forest.fit(post_mrmr,target)\n",
    "    oob_votes += forest.oob_decision_function_\n",
    "    oob_score += [np.sum(np.argmax(oob_votes,axis=1)==target,dtype=np.float)\n",
    "                     /post_mrmr.shape[0]]\n",
    "    print n_trees,\"\\t\",oob_score[-1]"
   ]
  },
  {
   "cell_type": "code",
   "execution_count": 137,
   "metadata": {
    "collapsed": false
   },
   "outputs": [],
   "source": [
    "oob_score=[]"
   ]
  },
  {
   "cell_type": "code",
   "execution_count": 144,
   "metadata": {
    "collapsed": false
   },
   "outputs": [
    {
     "data": {
      "text/plain": [
       "array([2, 2, 2, ..., 2, 2, 2])"
      ]
     },
     "execution_count": 144,
     "metadata": {},
     "output_type": "execute_result"
    }
   ],
   "source": [
    "np.argmax(oob_votes,1)"
   ]
  },
  {
   "cell_type": "code",
   "execution_count": null,
   "metadata": {
    "collapsed": true
   },
   "outputs": [],
   "source": []
  }
 ],
 "metadata": {
  "kernelspec": {
   "display_name": "Python 2",
   "language": "python",
   "name": "python2"
  },
  "language_info": {
   "codemirror_mode": {
    "name": "ipython",
    "version": 2
   },
   "file_extension": ".py",
   "mimetype": "text/x-python",
   "name": "python",
   "nbconvert_exporter": "python",
   "pygments_lexer": "ipython2",
   "version": "2.7.9"
  }
 },
 "nbformat": 4,
 "nbformat_minor": 0
}
