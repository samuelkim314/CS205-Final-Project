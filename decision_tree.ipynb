{
 "cells": [
  {
   "cell_type": "code",
   "execution_count": 1,
   "metadata": {
    "collapsed": false
   },
   "outputs": [],
   "source": [
    "from sklearn.tree import DecisionTreeClassifier as Tree\n",
    "from sklearn.ensemble import RandomForestClassifier as Forest\n",
    "import numpy as np\n",
    "import pandas as pd\n",
    "import matplotlib.pyplot as plt\n",
    "import sklearn\n",
    "%matplotlib qt\n",
    "\n",
    "def ZScores(forest): # Compute the mean/std z-score for each feature in the forest\n",
    "    importances = [tree.feature_importances_ for tree in forest.estimators_]\n",
    "    return np.mean(importances,axis=0)/np.std(importances,axis=0)"
   ]
  },
  {
   "cell_type": "code",
   "execution_count": null,
   "metadata": {
    "collapsed": false
   },
   "outputs": [],
   "source": [
    "def Rotate(coords,theta):\n",
    "    out = np.zeros(coords.shape)\n",
    "    out[:,0] = coords[:,0]*np.cos(theta) + coords[:,1]*np.sin(theta)\n",
    "    out[:,1] = -coords[:,0]*np.sin(theta) + coords[:,1]*np.cos(theta)\n",
    "    return out"
   ]
  },
  {
   "cell_type": "code",
   "execution_count": null,
   "metadata": {
    "collapsed": false
   },
   "outputs": [],
   "source": [
    "sklearn.__version__"
   ]
  },
  {
   "cell_type": "code",
   "execution_count": null,
   "metadata": {
    "collapsed": false
   },
   "outputs": [],
   "source": [
    "train_data = pd.read_csv('train.csv')\n",
    "train_labels = pd.read_csv('train_label.csv')\n",
    "N = train_data.shape[0]"
   ]
  },
  {
   "cell_type": "code",
   "execution_count": null,
   "metadata": {
    "collapsed": false
   },
   "outputs": [],
   "source": [
    "X = train_data['longitude']\n",
    "Y = train_data['latitude']\n",
    "XY = np.array([X,Y]).T\n",
    "XYr15 = Rotate(XY,np.pi/12)\n",
    "XYr30 = Rotate(XY,np.pi/6)\n",
    "XYr45 = Rotate(XY,np.pi/4)\n",
    "#Qe = (train_data['quantity'] == 'enough')\n",
    "#Qi = (train_data['quantity'] == 'insufficient')\n",
    "#Qd = (train_data['quantity'] == 'dry')\n",
    "#Qs = (train_data['quantity'] == 'seasonal')\n",
    "#L = (train_data['source']=='lake')\n",
    "#A = train_data['amount_tsh']\n",
    "#Eg = (train_data['extraction_type_class']=='gravity')\n",
    "#Eh = (train_data['extraction_type_class']=='handpump')\n",
    "#Es = (train_data['extraction_type_class']=='submersible')\n",
    "#P = train_data['population']\n",
    "#H = train_data['gps_height']\n",
    "#Y = train_data['construction_year']\n",
    "R = np.random.uniform(0.0,1.0,size=N)\n",
    "R2 = np.random.binomial(1,0.5,size=N)\n",
    "target = train_labels.status_group != 'non functional'\n",
    "Dgps = np.array([X,Y],dtype=np.float).T\n",
    "Dall = np.array([X,Y,Qe,Qi,Qd,Qs,L,A,Eg,Eh,Es,P,H,Y,R*0,R2*0],dtype=np.float).T\n",
    "Dquantity = np.array([Qe,Qi,Qd,Qs,R],dtype=np.float).T"
   ]
  },
  {
   "cell_type": "code",
   "execution_count": null,
   "metadata": {
    "collapsed": false
   },
   "outputs": [],
   "source": [
    "s = 0.8\n",
    "random_indices = np.arange(0,N)\n",
    "np.random.shuffle(random_indices)\n",
    "train_ind = random_indices[0:int(s*N)]\n",
    "test_ind = random_indices[int(s*N):]"
   ]
  },
  {
   "cell_type": "code",
   "execution_count": 8,
   "metadata": {
    "collapsed": false
   },
   "outputs": [
    {
     "data": {
      "text/plain": [
       "RandomForestClassifier(bootstrap=True, compute_importances=None,\n",
       "            criterion='gini', max_depth=None, max_features='auto',\n",
       "            min_density=None, min_samples_leaf=1, min_samples_split=2,\n",
       "            n_estimators=80, n_jobs=1, oob_score=False, random_state=None,\n",
       "            verbose=0)"
      ]
     },
     "execution_count": 8,
     "metadata": {},
     "output_type": "execute_result"
    }
   ],
   "source": [
    "### Train on rotated trees\n",
    "forestR0 = Forest(n_estimators=20,criterion='gini')\n",
    "forestR0.fit(Dgps[train_ind,:],target[train_ind])\n",
    "forestR15 = Forest(n_estimators=20,criterion='gini')\n",
    "forestR15.fit(XYr15[train_ind,:],target[train_ind])\n",
    "forestR30 = Forest(n_estimators=20,criterion='gini')\n",
    "forestR30.fit(XYr30[train_ind,:],target[train_ind])\n",
    "forestR45 = Forest(n_estimators=20,criterion='gini')\n",
    "forestR45.fit(XYr45[train_ind,:],target[train_ind])\n",
    "forestFull = Forest(n_estimators=80,criterion='gini')\n",
    "forestFull.fit(Dgps[train_ind,:],target[train_ind])"
   ]
  },
  {
   "cell_type": "code",
   "execution_count": 72,
   "metadata": {
    "collapsed": false
   },
   "outputs": [],
   "source": [
    "p0 = forestR0.predict_proba(Rotate(XY[test_ind,:],0.0))\n",
    "p15 = forestR15.predict_proba(Rotate(XYr15[test_ind,:],np.pi/12))\n",
    "p30 = forestR30.predict_proba(Rotate(XYr30[test_ind,:],np.pi/6))\n",
    "p45 = forestR45.predict_proba(Rotate(XYr45[test_ind,:],np.pi/4))\n",
    "pF = forestFull.predict_proba(Rotate(XY[test_ind,:],0.0))"
   ]
  },
  {
   "cell_type": "code",
   "execution_count": 80,
   "metadata": {
    "collapsed": false
   },
   "outputs": [
    {
     "data": {
      "text/plain": [
       "0.71826599326599327"
      ]
     },
     "execution_count": 80,
     "metadata": {},
     "output_type": "execute_result"
    }
   ],
   "source": [
    "ptot = p0+p15+p30+p45\n",
    "np.sum( (ptot[:,0]<=ptot[:,1])==target[test_ind] ) / (1.0*test_ind.shape[0])"
   ]
  },
  {
   "cell_type": "code",
   "execution_count": 96,
   "metadata": {
    "collapsed": false
   },
   "outputs": [],
   "source": [
    "r = 100\n",
    "forests = []\n",
    "ptot = np.zeros((test_ind.shape[0],2))\n",
    "for theta in np.linspace(0,np.pi/4,r):\n",
    "    f = Forest(n_estimators = 100/r,criterion='gini')\n",
    "    f.fit(Rotate(Dgps[train_ind,:],theta),target[train_ind])\n",
    "    forests += [f]"
   ]
  },
  {
   "cell_type": "code",
   "execution_count": 97,
   "metadata": {
    "collapsed": false
   },
   "outputs": [
    {
     "data": {
      "text/plain": [
       "0.73670033670033674"
      ]
     },
     "execution_count": 97,
     "metadata": {},
     "output_type": "execute_result"
    }
   ],
   "source": [
    "p = np.zeros((test_ind.shape[0],2))\n",
    "for i,theta in enumerate(np.linspace(0,np.pi/4,r)):\n",
    "    p += forests[i].predict_proba(Rotate(Dgps[test_ind,:],theta))\n",
    "\n",
    "np.sum( (p[:,0]<=p[:,1])==target[test_ind])/(1.0*test_ind.shape[0])"
   ]
  },
  {
   "cell_type": "code",
   "execution_count": 99,
   "metadata": {
    "collapsed": false
   },
   "outputs": [],
   "source": [
    "nx = 1000; ny = 1000\n",
    "xx,yy = np.meshgrid(np.linspace(35.0, 37,   nx),\n",
    "                    np.linspace(-7.0, -9,   ny))\n",
    "v = np.array([xx.ravel(),yy.ravel()]).T\n",
    "p = np.zeros(v.shape[0])\n",
    "for i,theta in enumerate(np.linspace(0,np.pi/4,r)):\n",
    "    p += forests[i].predict_proba(Rotate(v,theta))[:,0]\n",
    "p = np.reshape(p,(nx,ny))/r\n",
    "plt.contourf(xx,yy,p,np.linspace(0.0,1.0,5))\n",
    "plt.plot(X[(train_labels.status_group!='non functional')],Y[(train_labels.status_group!='non functional')],'go');\n",
    "plt.plot(X[(train_labels.status_group=='non functional')],Y[(train_labels.status_group=='non functional')],'ro'); plt.gca().set_aspect(\"equal\")"
   ]
  },
  {
   "cell_type": "code",
   "execution_count": 87,
   "metadata": {
    "collapsed": false
   },
   "outputs": [
    {
     "data": {
      "text/plain": [
       "0.73021885521885521"
      ]
     },
     "execution_count": 87,
     "metadata": {},
     "output_type": "execute_result"
    }
   ],
   "source": [
    "np.sum( (pF[:,0]<=pF[:,1])==target[test_ind] ) / (1.0*test_ind.shape[0])"
   ]
  },
  {
   "cell_type": "code",
   "execution_count": 104,
   "metadata": {
    "collapsed": false
   },
   "outputs": [
    {
     "data": {
      "text/plain": [
       "RandomForestClassifier(bootstrap=True, compute_importances=None,\n",
       "            criterion='entropy', max_depth=None, max_features='auto',\n",
       "            min_density=None, min_samples_leaf=1, min_samples_split=2,\n",
       "            n_estimators=100, n_jobs=1, oob_score=False, random_state=None,\n",
       "            verbose=0)"
      ]
     },
     "execution_count": 104,
     "metadata": {},
     "output_type": "execute_result"
    }
   ],
   "source": [
    "### FOREST CLASSIFIER\n",
    "myforest = Forest(n_estimators=100,criterion='entropy')\n",
    "myforest.fit(Dgps[train_ind,:],target[train_ind])"
   ]
  },
  {
   "cell_type": "code",
   "execution_count": 105,
   "metadata": {
    "collapsed": false
   },
   "outputs": [
    {
     "data": {
      "text/plain": [
       "0.7263468013468013"
      ]
     },
     "execution_count": 105,
     "metadata": {},
     "output_type": "execute_result"
    }
   ],
   "source": [
    "predictions = myforest.predict(Dgps[test_ind])\n",
    "np.sum(predictions == target[test_ind])/(1.0*test_ind.shape[0])"
   ]
  },
  {
   "cell_type": "code",
   "execution_count": 100,
   "metadata": {
    "collapsed": false
   },
   "outputs": [
    {
     "data": {
      "text/plain": [
       "array([ 0.39320319,  0.05531299,  0.02785572,  0.014544  ,  0.10050808,\n",
       "        0.01048493,  0.00414511,  0.04985363,  0.03122495,  0.0284956 ,\n",
       "        0.00797111,  0.08312579,  0.13425121,  0.05902369,  0.        ,  0.        ])"
      ]
     },
     "execution_count": 100,
     "metadata": {},
     "output_type": "execute_result"
    }
   ],
   "source": [
    "myforest.score(Dall[test_ind,:],target[test_ind])\n",
    "myforest.feature_importances_"
   ]
  },
  {
   "cell_type": "code",
   "execution_count": 268,
   "metadata": {
    "collapsed": false
   },
   "outputs": [
    {
     "data": {
      "text/plain": [
       "array([ 0.79620773,  0.508857  ,  0.49224358, ...,  0.30268173,\n",
       "        0.770254  ,  0.87442789])"
      ]
     },
     "execution_count": 268,
     "metadata": {},
     "output_type": "execute_result"
    }
   ],
   "source": [
    "R"
   ]
  },
  {
   "cell_type": "code",
   "execution_count": 107,
   "metadata": {
    "collapsed": false
   },
   "outputs": [],
   "source": [
    "plt.gcf().tight_layout()"
   ]
  },
  {
   "cell_type": "code",
   "execution_count": 103,
   "metadata": {
    "collapsed": false
   },
   "outputs": [],
   "source": [
    "\n"
   ]
  },
  {
   "cell_type": "code",
   "execution_count": 264,
   "metadata": {
    "collapsed": false
   },
   "outputs": [],
   "source": []
  },
  {
   "cell_type": "code",
   "execution_count": 106,
   "metadata": {
    "collapsed": false
   },
   "outputs": [],
   "source": [
    "plt.figure(); plt.gca().set_aspect(\"equal\")\n",
    "nx = 1000; ny = 1000\n",
    "xx,yy = np.meshgrid(np.linspace(35.0, 37,   nx),\n",
    "                    np.linspace(-7.0, -9,   ny))\n",
    "probs = myforest.predict_proba(np.array([xx.ravel(),yy.ravel()]).T)[:,0]\n",
    "probs = np.reshape(probs,(nx,ny))\n",
    "plt.contourf(xx,yy,probs,np.linspace(0.0,1.0,5))\n",
    "plt.plot(X[(train_labels.status_group!='non functional')],Y[(train_labels.status_group!='non functional')],'go');\n",
    "plt.plot(X[(train_labels.status_group=='non functional')],Y[(train_labels.status_group=='non functional')],'ro'); plt.gca().set_aspect(\"equal\")"
   ]
  },
  {
   "cell_type": "code",
   "execution_count": 121,
   "metadata": {
    "collapsed": false
   },
   "outputs": [
    {
     "data": {
      "text/plain": [
       "array([[ 0.25,  0.75],\n",
       "       [ 0.26,  0.74],\n",
       "       [ 0.23,  0.77],\n",
       "       ..., \n",
       "       [ 0.35,  0.65],\n",
       "       [ 0.5 ,  0.5 ],\n",
       "       [ 0.24,  0.76]])"
      ]
     },
     "execution_count": 121,
     "metadata": {},
     "output_type": "execute_result"
    }
   ],
   "source": [
    "probs"
   ]
  },
  {
   "cell_type": "code",
   "execution_count": 112,
   "metadata": {
    "collapsed": false
   },
   "outputs": [
    {
     "data": {
      "text/plain": [
       "array([ 30.4       ,  30.40606061,  30.41212121, ...,  30.98787879,\n",
       "        30.99393939,  31.        ])"
      ]
     },
     "execution_count": 112,
     "metadata": {},
     "output_type": "execute_result"
    }
   ],
   "source": [
    "xx.ravel()"
   ]
  },
  {
   "cell_type": "code",
   "execution_count": null,
   "metadata": {
    "collapsed": false
   },
   "outputs": [],
   "source": []
  },
  {
   "cell_type": "code",
   "execution_count": 86,
   "metadata": {
    "collapsed": false
   },
   "outputs": [
    {
     "data": {
      "text/plain": [
       "array([ 0.03387232,  0.00753619,  0.09897791,  0.00718113,  0.85243245])"
      ]
     },
     "execution_count": 86,
     "metadata": {},
     "output_type": "execute_result"
    }
   ],
   "source": [
    "myforest.feature_importances_"
   ]
  },
  {
   "cell_type": "code",
   "execution_count": 62,
   "metadata": {
    "collapsed": false
   },
   "outputs": [
    {
     "data": {
      "text/plain": [
       "DecisionTreeClassifier(compute_importances=None, criterion='gini',\n",
       "            max_depth=None, max_features=None, min_density=None,\n",
       "            min_samples_leaf=1, min_samples_split=2, random_state=None,\n",
       "            splitter='best')"
      ]
     },
     "execution_count": 62,
     "metadata": {},
     "output_type": "execute_result"
    }
   ],
   "source": [
    "### DECISION TREE CLASSIFIER\n",
    "mytree = Tree()\n",
    "mytree.fit(Dall[train_ind,:],train_labels.status_group[train_ind])"
   ]
  },
  {
   "cell_type": "code",
   "execution_count": 63,
   "metadata": {
    "collapsed": false
   },
   "outputs": [
    {
     "data": {
      "text/plain": [
       "0.13488215488215488"
      ]
     },
     "execution_count": 63,
     "metadata": {},
     "output_type": "execute_result"
    }
   ],
   "source": [
    "predictions = mytree.predict(Dall[test_ind,:])\n",
    "np.sum(predictions == train_labels.status_group[test_ind])/(1.0*N)"
   ]
  },
  {
   "cell_type": "code",
   "execution_count": 57,
   "metadata": {
    "collapsed": false
   },
   "outputs": [
    {
     "data": {
      "text/plain": [
       "array([ 0.3226293 ,  0.32493605,  0.01043847,  0.00603807,  0.13204862,\n",
       "        0.00486731,  0.19904219])"
      ]
     },
     "execution_count": 57,
     "metadata": {},
     "output_type": "execute_result"
    }
   ],
   "source": [
    "mytree.feature_importances_"
   ]
  },
  {
   "cell_type": "code",
   "execution_count": 107,
   "metadata": {
    "collapsed": false
   },
   "outputs": [],
   "source": [
    "plt.plot(X[(train_labels.status_group!='non functional')],Y[(train_labels.status_group!='non functional')],'go');\n",
    "plt.plot(X[(train_labels.status_group=='non functional')],Y[(train_labels.status_group=='non functional')],'ro'); plt.gca().set_aspect(\"equal\")"
   ]
  },
  {
   "cell_type": "code",
   "execution_count": null,
   "metadata": {
    "collapsed": false
   },
   "outputs": [],
   "source": []
  }
 ],
 "metadata": {
  "kernelspec": {
   "display_name": "Python 2",
   "language": "python",
   "name": "python2"
  },
  "language_info": {
   "codemirror_mode": {
    "name": "ipython",
    "version": 2
   },
   "file_extension": ".py",
   "mimetype": "text/x-python",
   "name": "python",
   "nbconvert_exporter": "python",
   "pygments_lexer": "ipython2",
   "version": "2.7.8"
  }
 },
 "nbformat": 4,
 "nbformat_minor": 0
}
