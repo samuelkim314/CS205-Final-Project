{
 "cells": [
  {
   "cell_type": "markdown",
   "metadata": {},
   "source": [
    "#####Notebook for Data exploration"
   ]
  },
  {
   "cell_type": "code",
   "execution_count": 4,
   "metadata": {
    "collapsed": true
   },
   "outputs": [],
   "source": [
    "import numpy as np\n",
    "import sklearn\n",
    "import csv\n",
    "from sklearn.feature_extraction import DictVectorizer"
   ]
  },
  {
   "cell_type": "code",
   "execution_count": 3,
   "metadata": {
    "collapsed": true
   },
   "outputs": [],
   "source": [
    "train_file = \"WaterPump-training-values.csv\"\n",
    "train_labels = \"WaterPump-training-labels.csv\"\n",
    "test_file = \"WaterPump-test-values.csv\"\n",
    "\n",
    "def getData(lines=None, step=1, fileName=\"WaterPump-training-values.csv\"):\n",
    "    #method to import part or all of data from CSV into list\n",
    "    #lines: how many lines to read; None means read to end of file\n",
    "    #step: step size, so step=2 would read every 2nd line\n",
    "    reader = csv.DictReader(open(fileName, 'rU'))\n",
    "    result = []\n",
    "    \n",
    "    i=0\n",
    "    #read to end of file, skipping lines if necessary\n",
    "    if lines==None:\n",
    "        for row in reader:\n",
    "            if i%step==0:\n",
    "                result.append(row)\n",
    "            i += 1\n",
    "    \n",
    "    #read until specified number of lines are stored\n",
    "    for row in reader:\n",
    "        if i>=lines*step:\n",
    "            break\n",
    "        if i%step==0:\n",
    "            result.append(row)\n",
    "        i += 1\n",
    "    \n",
    "    return result"
   ]
  },
  {
   "cell_type": "code",
   "execution_count": 7,
   "metadata": {
    "collapsed": false
   },
   "outputs": [],
   "source": [
    "def intDate(date):\n",
    "    #convert date string (2011-03-04) to int\n",
    "    dates = date.split('-')\n",
    "    #this is approximate formula, ignoring leap years and variance in month lengths\n",
    "    return int(dates[0])*365 + int(dates[1])*30 + int(dates[2])\n",
    "\n",
    "def quantData(data):\n",
    "    #getData() reads everything as string, so this changes appropriate continuous variables to ints/floats\n",
    "    #mutates given data\n",
    "    #TODO: how to deal with dates? ('date_recorded')\n",
    "    for row in data:\n",
    "        row['longitude'] = float(row['longitude'])\n",
    "        row['latitude'] = float(row['latitude'])\n",
    "        row['gps_height'] = int(row['gps_height'])\n",
    "        #these are categorical data and should not be converted\n",
    "        #row['region_code'] = int(row['region_code'])\n",
    "        #row['district_code'] = int(row['district_code'])\n",
    "        row['amount_tsh'] = float(row['amount_tsh'])\n",
    "        row['population'] = float(row['population'])\n",
    "        row['construction_year'] = float(row['construction_year'])\n",
    "        row['num_private'] = int(row['num_private'])  #what the heck is this??\n",
    "        row['permit'] = row['permit'] == 'TRUE'\n",
    "        row['public_meeting'] = row['public_meeting'] == 'TRUE'\n",
    "        row['date_recorded'] = intDate(row['date_recorded'])\n",
    "        \n",
    "        #removing columns\n",
    "        del row['recorded_by']  #only 1 unique value\n",
    "        del row['quantity_group'] #redundant with 'quantity'\n",
    "        #del row['source_type']\n",
    "        del row['waterpoint_type_group']\n",
    "        del row['payment_type']\n",
    "        #need to confirm the following is redundant with 'region'\n",
    "        #del row['region_code']\n",
    "    return data\n",
    "\n",
    "def vectorizeData(data):\n",
    "    #vectorize data, data should be dictionary\n",
    "    #http://nbviewer.ipython.org/gist/sarguido/7423289\n",
    "    vec = DictVectorizer()\n",
    "    vectData = vec.fit_transform(data).toarray()\n",
    "    return vectData"
   ]
  },
  {
   "cell_type": "code",
   "execution_count": 8,
   "metadata": {
    "collapsed": false
   },
   "outputs": [
    {
     "name": "stdout",
     "output_type": "stream",
     "text": [
      "[{'extraction_type': 'gravity', 'region_code': '11', 'gps_height': '1390', 'recorded_by': 'GeoData Consultants Ltd', 'longitude': '34.93809275', 'construction_year': '1999', 'installer': 'Roman', 'id': '69572', 'scheme_management': 'VWC', 'scheme_name': 'Roman', 'management': 'vwc', 'quantity_group': 'enough', 'source_class': 'groundwater', 'source': 'spring', 'subvillage': 'Mnyusi B', 'public_meeting': 'True', 'num_private': '0', 'latitude': '-9.85632177', 'waterpoint_type_group': 'communal standpipe', 'basin': 'Lake Nyasa', 'extraction_type_class': 'gravity', 'waterpoint_type': 'communal standpipe', 'wpt_name': 'none', 'management_group': 'user-group', 'lga': 'Ludewa', 'source_type': 'spring', 'district_code': '5', 'ward': 'Mundindi', 'payment': 'pay annually', 'population': '109', 'date_recorded': '2011-03-14', 'extraction_type_group': 'gravity', 'region': 'Iringa', 'amount_tsh': '6000.0', 'quality_group': 'good', 'payment_type': 'annually', 'water_quality': 'soft', 'permit': 'False', 'funder': 'Roman', 'quantity': 'enough'}]\n"
     ]
    }
   ],
   "source": [
    "rawData = getData(5)\n",
    "print rawData[:1]"
   ]
  },
  {
   "cell_type": "code",
   "execution_count": 9,
   "metadata": {
    "collapsed": false
   },
   "outputs": [
    {
     "name": "stdout",
     "output_type": "stream",
     "text": [
      "[{'extraction_type': 'gravity', 'region_code': '11', 'gps_height': 1390, 'longitude': 34.93809275, 'construction_year': 1999.0, 'installer': 'Roman', 'id': '69572', 'scheme_management': 'VWC', 'scheme_name': 'Roman', 'management': 'vwc', 'source_class': 'groundwater', 'source': 'spring', 'subvillage': 'Mnyusi B', 'public_meeting': False, 'num_private': 0, 'latitude': -9.85632177, 'basin': 'Lake Nyasa', 'extraction_type_class': 'gravity', 'waterpoint_type': 'communal standpipe', 'wpt_name': 'none', 'management_group': 'user-group', 'lga': 'Ludewa', 'source_type': 'spring', 'district_code': '5', 'ward': 'Mundindi', 'payment': 'pay annually', 'population': 109.0, 'date_recorded': 734119, 'extraction_type_group': 'gravity', 'region': 'Iringa', 'amount_tsh': 6000.0, 'quality_group': 'good', 'water_quality': 'soft', 'permit': False, 'funder': 'Roman', 'quantity': 'enough'}]\n"
     ]
    }
   ],
   "source": [
    "cleanData = quantData(rawData)\n",
    "print cleanData[:1]"
   ]
  },
  {
   "cell_type": "code",
   "execution_count": 10,
   "metadata": {
    "collapsed": false
   },
   "outputs": [
    {
     "name": "stdout",
     "output_type": "stream",
     "text": [
      "[[  6.00000000e+03   1.00000000e+00   0.00000000e+00   0.00000000e+00\n",
      "    0.00000000e+00   1.99900000e+03   7.34119000e+05   0.00000000e+00\n",
      "    0.00000000e+00   0.00000000e+00   1.00000000e+00   0.00000000e+00\n",
      "    1.00000000e+00   0.00000000e+00   1.00000000e+00   0.00000000e+00\n",
      "    1.00000000e+00   0.00000000e+00   0.00000000e+00   0.00000000e+00\n",
      "    0.00000000e+00   1.00000000e+00   0.00000000e+00   1.39000000e+03\n",
      "    0.00000000e+00   0.00000000e+00   0.00000000e+00   1.00000000e+00\n",
      "    0.00000000e+00   0.00000000e+00   0.00000000e+00   1.00000000e+00\n",
      "    0.00000000e+00   0.00000000e+00  -9.85632177e+00   0.00000000e+00\n",
      "    1.00000000e+00   0.00000000e+00   0.00000000e+00   0.00000000e+00\n",
      "    3.49380928e+01   0.00000000e+00   1.00000000e+00   0.00000000e+00\n",
      "    0.00000000e+00   1.00000000e+00   0.00000000e+00   0.00000000e+00\n",
      "    1.00000000e+00   0.00000000e+00   0.00000000e+00   1.09000000e+02\n",
      "    0.00000000e+00   1.00000000e+00   0.00000000e+00   1.00000000e+00\n",
      "    0.00000000e+00   0.00000000e+00   1.00000000e+00   0.00000000e+00\n",
      "    0.00000000e+00   0.00000000e+00   0.00000000e+00   1.00000000e+00\n",
      "    0.00000000e+00   0.00000000e+00   0.00000000e+00   0.00000000e+00\n",
      "    0.00000000e+00   0.00000000e+00   1.00000000e+00   0.00000000e+00\n",
      "    0.00000000e+00   1.00000000e+00   0.00000000e+00   0.00000000e+00\n",
      "    0.00000000e+00   1.00000000e+00   1.00000000e+00   0.00000000e+00\n",
      "    0.00000000e+00   0.00000000e+00   0.00000000e+00   1.00000000e+00\n",
      "    0.00000000e+00   0.00000000e+00   0.00000000e+00   1.00000000e+00\n",
      "    0.00000000e+00   1.00000000e+00   0.00000000e+00   0.00000000e+00\n",
      "    0.00000000e+00   0.00000000e+00   1.00000000e+00   1.00000000e+00\n",
      "    0.00000000e+00   0.00000000e+00   0.00000000e+00   0.00000000e+00\n",
      "    0.00000000e+00   1.00000000e+00]]\n"
     ]
    }
   ],
   "source": [
    "vecData = vectorizeData(cleanData)\n",
    "print vecData[:1]"
   ]
  },
  {
   "cell_type": "code",
   "execution_count": null,
   "metadata": {
    "collapsed": true
   },
   "outputs": [],
   "source": []
  }
 ],
 "metadata": {
  "kernelspec": {
   "display_name": "Python 2",
   "language": "python",
   "name": "python2"
  },
  "language_info": {
   "codemirror_mode": {
    "name": "ipython",
    "version": 2
   },
   "file_extension": ".py",
   "mimetype": "text/x-python",
   "name": "python",
   "nbconvert_exporter": "python",
   "pygments_lexer": "ipython2",
   "version": "2.7.8"
  }
 },
 "nbformat": 4,
 "nbformat_minor": 0
}
