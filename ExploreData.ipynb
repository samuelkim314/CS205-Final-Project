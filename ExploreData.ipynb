{
 "cells": [
  {
   "cell_type": "markdown",
   "metadata": {},
   "source": [
    "#####Notebook for Data exploration"
   ]
  },
  {
   "cell_type": "code",
   "execution_count": 1,
   "metadata": {
    "collapsed": true
   },
   "outputs": [],
   "source": [
    "import numpy as np\n",
    "import sklearn\n",
    "import csv\n",
    "from sklearn.feature_extraction import DictVectorizer"
   ]
  },
  {
   "cell_type": "code",
   "execution_count": 8,
   "metadata": {
    "collapsed": true
   },
   "outputs": [],
   "source": [
    "train_file = \"WaterPump-training-values.csv\"\n",
    "train_labels = \"WaterPump-training-labels.csv\"\n",
    "test_file = \"WaterPump-test-values.csv\"\n",
    "\n",
    "def getData(lines=None, step=1, fileName=\"WaterPump-training-values.csv\"):\n",
    "    #method to import part or all of data from CSV into list\n",
    "    #lines: how many lines to read; None means read to end of file\n",
    "    #step: step size, so step=2 would read every 2nd line\n",
    "    reader = csv.DictReader(open(fileName, 'rU'))\n",
    "    result = []\n",
    "    \n",
    "    i=0\n",
    "    #read to end of file, skipping lines if necessary\n",
    "    if lines==None:\n",
    "        for row in reader:\n",
    "            if i%step==0:\n",
    "                result.append(row)\n",
    "            i += 1\n",
    "    \n",
    "    #read until specified number of lines are stored\n",
    "    for row in reader:\n",
    "        if i>=lines*step:\n",
    "            break\n",
    "        if i%step==0:\n",
    "            result.append(row)\n",
    "        i += 1\n",
    "    \n",
    "    return result"
   ]
  },
  {
   "cell_type": "code",
   "execution_count": 23,
   "metadata": {
    "collapsed": false
   },
   "outputs": [
    {
     "name": "stdout",
     "output_type": "stream",
     "text": [
      "[{'extraction_type': 'gravity', 'region_code': '11', 'gps_height': '1390', 'recorded_by': 'GeoData Consultants Ltd', 'longitude': '34.93809275', 'construction_year': '1999', 'installer': 'Roman', 'id': '69572', 'scheme_management': 'VWC', 'scheme_name': 'Roman', 'management': 'vwc', 'quantity_group': 'enough', 'source_class': 'groundwater', 'source': 'spring', 'subvillage': 'Mnyusi B', 'public_meeting': 'True', 'num_private': '0', 'latitude': '-9.85632177', 'waterpoint_type_group': 'communal standpipe', 'basin': 'Lake Nyasa', 'extraction_type_class': 'gravity', 'waterpoint_type': 'communal standpipe', 'wpt_name': 'none', 'management_group': 'user-group', 'lga': 'Ludewa', 'source_type': 'spring', 'district_code': '5', 'ward': 'Mundindi', 'payment': 'pay annually', 'population': '109', 'date_recorded': '2011-03-14', 'extraction_type_group': 'gravity', 'region': 'Iringa', 'amount_tsh': '6000.0', 'quality_group': 'good', 'payment_type': 'annually', 'water_quality': 'soft', 'permit': 'False', 'funder': 'Roman', 'quantity': 'enough'}]\n"
     ]
    }
   ],
   "source": [
    "sampleData = getData(5)\n",
    "print sampleData[:1]"
   ]
  },
  {
   "cell_type": "code",
   "execution_count": 24,
   "metadata": {
    "collapsed": false
   },
   "outputs": [],
   "source": [
    "def intDate(date):\n",
    "    #convert date string (2011-03-04) to int\n",
    "    dates = date.split('-')\n",
    "    #this is approximate formula, ignoring leap years and variance in month lengths\n",
    "    return dates[0]*365 + dates[1]*30 + dates[2]\n",
    "\n",
    "def quantData(data):\n",
    "    #getData() reads everything as string, so this changes appropriate continuous variables to ints/floats\n",
    "    #TODO: how to deal with dates? ('date_recorded')\n",
    "    for row in data:\n",
    "        row['longitude'] = float(row['longitude'])\n",
    "        row['latitude'] = float(row['latitude'])\n",
    "        row['gps_height'] = int(row['gps_height'])\n",
    "        #these are categorical data and should not be converted\n",
    "        #row['region_code'] = int(row['region_code'])\n",
    "        #row['district_code'] = int(row['district_code'])\n",
    "        row['amount_tsh'] = float(row['amount_tsh'])\n",
    "        row['population'] = float(row['population'])\n",
    "        row['construction_year'] = float(row['construction_year'])\n",
    "        row['num_private'] = int(row['num_private'])  #what the heck is this??\n",
    "        row['permit'] = bool(row['permit'])\n",
    "        row['public_meeting'] = bool(row['public_meeting'])\n",
    "        row['date_recorded'] = intDate(row['date_recorded'])\n",
    "    return data\n",
    "\n",
    "def vectorizeData(data):\n",
    "    #vectorize data, data should be dictionary\n",
    "    #http://nbviewer.ipython.org/gist/sarguido/7423289\n",
    "    pass"
   ]
  },
  {
   "cell_type": "code",
   "execution_count": 21,
   "metadata": {
    "collapsed": false
   },
   "outputs": [
    {
     "name": "stdout",
     "output_type": "stream",
     "text": [
      "[{'extraction_type': 'gravity', 'region_code': 11, 'gps_height': 1390, 'recorded_by': 'GeoData Consultants Ltd', 'longitude': 34.93809275, 'construction_year': '1999', 'installer': 'Roman', 'id': '69572', 'scheme_management': 'VWC', 'scheme_name': 'Roman', 'management': 'vwc', 'quantity_group': 'enough', 'source_class': 'groundwater', 'source': 'spring', 'subvillage': 'Mnyusi B', 'public_meeting': 'True', 'num_private': 0, 'latitude': -9.85632177, 'waterpoint_type_group': 'communal standpipe', 'basin': 'Lake Nyasa', 'extraction_type_class': 'gravity', 'waterpoint_type': 'communal standpipe', 'wpt_name': 'none', 'management_group': 'user-group', 'lga': 'Ludewa', 'source_type': 'spring', 'district_code': 5, 'ward': 'Mundindi', 'payment': 'pay annually', 'population': 109.0, 'date_recorded': '2011-03-14', 'extraction_type_group': 'gravity', 'region': 'Iringa', 'amount_tsh': 6000.0, 'quality_group': 'good', 'payment_type': 'annually', 'water_quality': 'soft', 'permit': 'False', 'funder': 'Roman', 'quantity': 'enough'}, {'extraction_type': 'gravity', 'region_code': 20, 'gps_height': 1399, 'recorded_by': 'GeoData Consultants Ltd', 'longitude': 34.6987661, 'construction_year': '2010', 'installer': 'GRUMETI', 'id': '8776', 'scheme_management': 'Other', 'scheme_name': '', 'management': 'wug', 'quantity_group': 'insufficient', 'source_class': 'surface', 'source': 'rainwater harvesting', 'subvillage': 'Nyamara', 'public_meeting': '', 'num_private': 0, 'latitude': -2.14746569, 'waterpoint_type_group': 'communal standpipe', 'basin': 'Lake Victoria', 'extraction_type_class': 'gravity', 'waterpoint_type': 'communal standpipe', 'wpt_name': 'Zahanati', 'management_group': 'user-group', 'lga': 'Serengeti', 'source_type': 'rainwater harvesting', 'district_code': 2, 'ward': 'Natta', 'payment': 'never pay', 'population': 280.0, 'date_recorded': '2013-03-06', 'extraction_type_group': 'gravity', 'region': 'Mara', 'amount_tsh': 0.0, 'quality_group': 'good', 'payment_type': 'never pay', 'water_quality': 'soft', 'permit': 'True', 'funder': 'Grumeti', 'quantity': 'insufficient'}]\n"
     ]
    }
   ],
   "source": [
    "sampleData = quantData(sampleData)\n",
    "print sampleData[:2]"
   ]
  },
  {
   "cell_type": "code",
   "execution_count": null,
   "metadata": {
    "collapsed": true
   },
   "outputs": [],
   "source": []
  }
 ],
 "metadata": {
  "kernelspec": {
   "display_name": "Python 2",
   "language": "python",
   "name": "python2"
  },
  "language_info": {
   "codemirror_mode": {
    "name": "ipython",
    "version": 2
   },
   "file_extension": ".py",
   "mimetype": "text/x-python",
   "name": "python",
   "nbconvert_exporter": "python",
   "pygments_lexer": "ipython2",
   "version": "2.7.8"
  }
 },
 "nbformat": 4,
 "nbformat_minor": 0
}
