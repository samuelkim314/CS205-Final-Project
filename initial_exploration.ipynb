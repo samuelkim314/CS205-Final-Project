{
 "cells": [
  {
   "cell_type": "code",
   "execution_count": 2,
   "metadata": {
    "collapsed": false
   },
   "outputs": [],
   "source": [
    "# Needed modules\n",
    "import matplotlib.pyplot as plt\n",
    "import numpy as np\n",
    "from sklearn.neighbors import KNeighborsClassifier\n",
    "import pandas as pd\n",
    "import scipy as sp"
   ]
  },
  {
   "cell_type": "code",
   "execution_count": 3,
   "metadata": {
    "collapsed": false
   },
   "outputs": [],
   "source": [
    "# Import data and determine the number of samples\n",
    "train_data = pd.read_csv('train.csv')\n",
    "train_labels = pd.read_csv('train_label.csv')\n",
    "N = train_data.shape[0]"
   ]
  },
  {
   "cell_type": "code",
   "execution_count": 261,
   "metadata": {
    "collapsed": false
   },
   "outputs": [],
   "source": []
  },
  {
   "cell_type": "code",
   "execution_count": 261,
   "metadata": {
    "collapsed": false
   },
   "outputs": [],
   "source": []
  },
  {
   "cell_type": "code",
   "execution_count": 261,
   "metadata": {
    "collapsed": false
   },
   "outputs": [],
   "source": []
  },
  {
   "cell_type": "code",
   "execution_count": 261,
   "metadata": {
    "collapsed": false
   },
   "outputs": [],
   "source": []
  },
  {
   "cell_type": "code",
   "execution_count": 261,
   "metadata": {
    "collapsed": false
   },
   "outputs": [],
   "source": []
  },
  {
   "cell_type": "code",
   "execution_count": 261,
   "metadata": {
    "collapsed": false
   },
   "outputs": [],
   "source": []
  },
  {
   "cell_type": "code",
   "execution_count": 261,
   "metadata": {
    "collapsed": false
   },
   "outputs": [],
   "source": []
  },
  {
   "cell_type": "code",
   "execution_count": 261,
   "metadata": {
    "collapsed": false
   },
   "outputs": [],
   "source": []
  },
  {
   "cell_type": "code",
   "execution_count": 261,
   "metadata": {
    "collapsed": false
   },
   "outputs": [],
   "source": []
  },
  {
   "cell_type": "code",
   "execution_count": 261,
   "metadata": {
    "collapsed": false
   },
   "outputs": [],
   "source": []
  },
  {
   "cell_type": "code",
   "execution_count": 582,
   "metadata": {
    "collapsed": false
   },
   "outputs": [],
   "source": [
    "plt.close(\"all\")"
   ]
  },
  {
   "cell_type": "code",
   "execution_count": 1855,
   "metadata": {
    "collapsed": false
   },
   "outputs": [
    {
     "data": {
      "text/plain": [
       "[<matplotlib.lines.Line2D at 0x7f8a44843990>]"
      ]
     },
     "execution_count": 1855,
     "metadata": {},
     "output_type": "execute_result"
    }
   ],
   "source": [
    "# Plot all well locations, NOT colored\n",
    "locations = np.array([train_data['longitude'],train_data['latitude']])\n",
    "locations = locations.transpose()\n",
    "plt.plot(locations[:,0],locations[:,1],'ko')"
   ]
  },
  {
   "cell_type": "code",
   "execution_count": 2275,
   "metadata": {
    "collapsed": false
   },
   "outputs": [
    {
     "data": {
      "text/plain": [
       "(29, 41)"
      ]
     },
     "execution_count": 2275,
     "metadata": {},
     "output_type": "execute_result"
    }
   ],
   "source": [
    "# Plot all well locations, WITH COLOR\n",
    "# NB: Note the spatial clustering!\n",
    "status_groups = ['functional', 'functional needs repair', 'non functional']\n",
    "for i,c in enumerate(['green','red','green']):\n",
    "    x=train_data[train_labels['status_group']==status_groups[i]]['longitude']\n",
    "    y=train_data[train_labels['status_group']==status_groups[i]]['latitude']\n",
    "    plt.plot(x,y,'o',color=c,alpha=0.3)\n",
    "plt.gca().set_aspect('equal')\n",
    "plt.gca().set_xlim((29,41))"
   ]
  },
  {
   "cell_type": "code",
   "execution_count": 5,
   "metadata": {
    "collapsed": false
   },
   "outputs": [
    {
     "name": "stdout",
     "output_type": "stream",
     "text": [
      "59400\n"
     ]
    }
   ],
   "source": [
    "# Obtain locations and statuses for wells with valid GPS locations\n",
    "# NB: 3.1% of the wells are missing location data\n",
    "has_gps = train_data['longitude']>1\n",
    "locations = np.array([train_data['longitude'].values,\n",
    "                      train_data['latitude'].values],dtype=np.float)\n",
    "locations = locations.transpose()\n",
    "statuses = train_labels['status_group'].values\n",
    "is_functional = (statuses != 'non functional')\n",
    "Ngps = statuses.shape[0]; print Ngps"
   ]
  },
  {
   "cell_type": "code",
   "execution_count": 5,
   "metadata": {
    "collapsed": false
   },
   "outputs": [
    {
     "data": {
      "text/plain": [
       "array(['functional', 'functional', 'functional', 'non functional',\n",
       "       'functional', 'functional', 'non functional', 'non functional',\n",
       "       'non functional', 'functional', 'functional', 'functional',\n",
       "       'functional', 'functional', 'functional', 'functional',\n",
       "       'non functional', 'non functional', 'functional needs repair',\n",
       "       'functional'], dtype=object)"
      ]
     },
     "execution_count": 5,
     "metadata": {},
     "output_type": "execute_result"
    }
   ],
   "source": [
    "statuses[0:20]"
   ]
  },
  {
   "cell_type": "code",
   "execution_count": 6,
   "metadata": {
    "collapsed": false
   },
   "outputs": [
    {
     "data": {
      "text/plain": [
       "array([ True,  True,  True, False,  True,  True, False, False, False,\n",
       "        True,  True,  True,  True,  True,  True,  True, False, False,\n",
       "        True,  True], dtype=bool)"
      ]
     },
     "execution_count": 6,
     "metadata": {},
     "output_type": "execute_result"
    }
   ],
   "source": [
    "is_functional[0:20]"
   ]
  },
  {
   "cell_type": "code",
   "execution_count": 7,
   "metadata": {
    "collapsed": false
   },
   "outputs": [
    {
     "data": {
      "text/plain": [
       "0.003125"
      ]
     },
     "execution_count": 7,
     "metadata": {},
     "output_type": "execute_result"
    }
   ],
   "source": [
    "0.1/2**5"
   ]
  },
  {
   "cell_type": "code",
   "execution_count": 165,
   "metadata": {
    "collapsed": false
   },
   "outputs": [],
   "source": [
    "scale = 0.004 # characteristic radius of a cluster in GPS coordinates\n",
    "q = 6.0/12\n",
    "def gaussian(distances,s=scale):\n",
    "    return np.exp(-np.power(distances,2.0)/(2*np.power(s,2.0)))\n",
    "\n",
    "def adaptive_gaussian(distances):\n",
    "    low = 0.001\n",
    "    high = 0.1\n",
    "    t = (low+high)/2.0\n",
    "    for i in xrange(8):\n",
    "        if (np.sum(np.exp(-np.power(distances,2)/(2.0*np.power(t,2)))) > k*q):\n",
    "            high = t\n",
    "        else:\n",
    "            low = t\n",
    "        t = (low+high)/2.0\n",
    "    return np.exp(-np.power(distances,2)/(2.0*np.power(t,2)))\n",
    "\n",
    "def linear_distance(distances):\n",
    "    return np.max(distances)-distances\n",
    "def inverse_distance(distances):\n",
    "    return 1.0/distances"
   ]
  },
  {
   "cell_type": "code",
   "execution_count": 2550,
   "metadata": {
    "collapsed": false
   },
   "outputs": [],
   "source": []
  },
  {
   "cell_type": "code",
   "execution_count": 2550,
   "metadata": {
    "collapsed": false
   },
   "outputs": [],
   "source": []
  },
  {
   "cell_type": "code",
   "execution_count": 82,
   "metadata": {
    "collapsed": false
   },
   "outputs": [],
   "source": [
    "# Split the dataset into three chunks: training, testing, and validation\n",
    "# Fraction t goes into training, (1-t)/2 go to testing and validation\n",
    "t = 0.9\n",
    "r = (1-t)/2\n",
    "random_indices = np.arange(Ngps,dtype=np.int)\n",
    "np.random.shuffle(random_indices) # in-place\n",
    "train_ind = random_indices[0:int(t*N)]\n",
    "test_ind = random_indices[int(t*N):]\n",
    "#val_ind = random_indices[int((t+r)*Ngps):Ngps]"
   ]
  },
  {
   "cell_type": "code",
   "execution_count": 83,
   "metadata": {
    "collapsed": false
   },
   "outputs": [
    {
     "data": {
      "text/plain": [
       "KNeighborsClassifier(algorithm='auto', leaf_size=30, metric='minkowski',\n",
       "           metric_params=None, n_neighbors=40, p=2, weights='distance')"
      ]
     },
     "execution_count": 83,
     "metadata": {},
     "output_type": "execute_result"
    }
   ],
   "source": [
    "# Create and \"train\" the kNN classifier\n",
    "k = 40\n",
    "scale = 0.01\n",
    "q = 6.0/k\n",
    "weights = 'distance'\n",
    "algorithm = 'auto'\n",
    "kNN_classifier = KNeighborsClassifier(leaf_size=30,\n",
    "   n_neighbors=k,weights=weights,algorithm=algorithm)\n",
    "kNN_classifier.fit(locations[train_ind,:],statuses[train_ind])"
   ]
  },
  {
   "cell_type": "code",
   "execution_count": 84,
   "metadata": {
    "collapsed": false
   },
   "outputs": [
    {
     "name": "stdout",
     "output_type": "stream",
     "text": [
      "0.692255892256\n",
      "\tfunctional: 0.819048\n",
      "\tfunctional needs repair: 0.219626\n",
      "\tnon functional: 0.608806\n"
     ]
    }
   ],
   "source": [
    "predictions = kNN_classifier.predict(locations[test_ind,:])\n",
    "correct = np.sum(predictions == statuses[test_ind])\n",
    "print correct*1.0/test_ind.shape[0]\n",
    "for state in np.unique(statuses):\n",
    "    print \"\\t%s: %f\" %(state, np.sum((predictions==state)&(statuses[test_ind]==state))*1.0/np.sum(statuses[test_ind]==state))\n",
    "\n",
    "#for state in ['functional', 'functional needs repair','non functional']:\n",
    "#    print \"\\t%s: %f\" % (state, np.sum((predictions==state)&(statuses[test_ind]==state))*1.0/np.sum(statuses[test_ind]==state))"
   ]
  },
  {
   "cell_type": "code",
   "execution_count": 22,
   "metadata": {
    "collapsed": false
   },
   "outputs": [
    {
     "data": {
      "text/plain": [
       "array(['functional', 'functional', 'functional', ..., 'functional',\n",
       "       'functional', 'functional'], dtype=object)"
      ]
     },
     "execution_count": 22,
     "metadata": {},
     "output_type": "execute_result"
    }
   ],
   "source": [
    "statuses"
   ]
  },
  {
   "cell_type": "code",
   "execution_count": 2554,
   "metadata": {
    "collapsed": false
   },
   "outputs": [],
   "source": [
    "s = 0.02\n",
    "#X,Y=np.meshgrid(np.linspace(np.min(locations[:,0]),np.max(locations[:,0]),1000),\n",
    "#            np.linspace(np.min(locations[:,1]),np.max(locations[:,1]),1000))\n",
    "X,Y=np.meshgrid(np.linspace(33.,34.,1000),\n",
    "            np.linspace(-9.,-8.,1000))\n",
    "P = np.zeros(X.shape)\n",
    "C = np.zeros(X.shape)\n",
    "\n",
    "#xx,yy = np.meshgrid(np.linspace(35.0, 37,   nx),\n",
    "#                    np.linspace(-7.0, -9,   ny))\n",
    "#probs = myforest.predict_proba(np.array([xx.ravel(),yy.ravel()]).T)[:,0]\n",
    "#probs = np.reshape(probs,(nx,ny))\n",
    "\n",
    "for i in xrange(X.shape[0]):\n",
    "    P[:,i] = kNN_classifier.predict_proba(np.array([X[:,i],Y[:,i]]).T)[:,1]\n",
    "    g = kNN_classifier.kneighbors(np.array([X[:,i],Y[:,i]]).T)\n",
    "    C[:,i] = np.sum(np.exp(-np.power(g[0],2)/(2.0*np.power(s,2)))/k,axis=1)"
   ]
  },
  {
   "cell_type": "code",
   "execution_count": 2554,
   "metadata": {
    "collapsed": false
   },
   "outputs": [],
   "source": []
  },
  {
   "cell_type": "code",
   "execution_count": 2555,
   "metadata": {
    "collapsed": false
   },
   "outputs": [
    {
     "data": {
      "text/plain": [
       "<matplotlib.colorbar.Colorbar instance at 0x7f8a6326f248>"
      ]
     },
     "execution_count": 2555,
     "metadata": {},
     "output_type": "execute_result"
    }
   ],
   "source": [
    "plt.figure()\n",
    "plt.contourf(X,Y,P,[0.0,0.25, 0.5,0.75,1.0],cmap=plt.get_cmap('Greys')); plt.gca().set_aspect(\"equal\")\n",
    "plt.contour(X,Y,C,np.linspace(0.0,np.max(C),10),linewidths=2.0,cmap=plt.get_cmap('Blues'))\n",
    "# Plot all well locations, WITH COLOR\n",
    "# NB: Note the spatial clustering!\n",
    "status_groups = ['functional', 'functional needs repair', 'non functional']\n",
    "for i,c in enumerate(['green','green','red']):\n",
    "    x=train_data[train_labels['status_group']==status_groups[i]]['longitude'][train_ind]\n",
    "    y=train_data[train_labels['status_group']==status_groups[i]]['latitude'][train_ind]\n",
    "    plt.plot(x,y,'o',color=c)\n",
    "plt.gca().set_aspect('equal')\n",
    "plt.gca().set_xlim((29,41))\n",
    "plt.colorbar()"
   ]
  },
  {
   "cell_type": "code",
   "execution_count": 2418,
   "metadata": {
    "collapsed": false
   },
   "outputs": [
    {
     "data": {
      "text/plain": [
       "1.1793319945616944e-07"
      ]
     },
     "execution_count": 2418,
     "metadata": {},
     "output_type": "execute_result"
    }
   ],
   "source": [
    "np.sum(gaussian(kNN_classifier.kneighbors([33.4,-9.0])[0]))/k"
   ]
  },
  {
   "cell_type": "code",
   "execution_count": 2309,
   "metadata": {
    "collapsed": false
   },
   "outputs": [
    {
     "data": {
      "text/plain": [
       "1.0"
      ]
     },
     "execution_count": 2309,
     "metadata": {},
     "output_type": "execute_result"
    }
   ],
   "source": [
    "kNN_classifier.predict_proba(locations[0,:])[0][1]"
   ]
  },
  {
   "cell_type": "code",
   "execution_count": 2411,
   "metadata": {
    "collapsed": false
   },
   "outputs": [
    {
     "name": "stdout",
     "output_type": "stream",
     "text": [
      "0.0\n"
     ]
    }
   ],
   "source": [
    "validated = kNN_classifier.predict(locations[val_ind,:])\n",
    "correct = np.sum(validated==statuses[val_ind])\n",
    "print correct*1.0/val_ind.shape[0]"
   ]
  },
  {
   "cell_type": "code",
   "execution_count": 2054,
   "metadata": {
    "collapsed": false
   },
   "outputs": [],
   "source": [
    "vor = sp.spatial.Voronoi(locations[::100])\n",
    "sp.spatial.voronoi_plot_2d(vor)\n",
    "plt.show()"
   ]
  },
  {
   "cell_type": "code",
   "execution_count": 1258,
   "metadata": {
    "collapsed": false
   },
   "outputs": [
    {
     "data": {
      "text/plain": [
       "array([ True,  True, False, ..., False, False, False], dtype=bool)"
      ]
     },
     "execution_count": 1258,
     "metadata": {},
     "output_type": "execute_result"
    }
   ],
   "source": []
  },
  {
   "cell_type": "code",
   "execution_count": 589,
   "metadata": {
    "collapsed": false
   },
   "outputs": [],
   "source": [
    "plt.gcf().tight_layout()"
   ]
  },
  {
   "cell_type": "code",
   "execution_count": 167,
   "metadata": {
    "collapsed": false
   },
   "outputs": [],
   "source": [
    "a = plt.gca()"
   ]
  },
  {
   "cell_type": "code",
   "execution_count": 168,
   "metadata": {
    "collapsed": false
   },
   "outputs": [],
   "source": [
    "a.set_aspect('equal')"
   ]
  },
  {
   "cell_type": "code",
   "execution_count": 226,
   "metadata": {
    "collapsed": false
   },
   "outputs": [],
   "source": [
    "funders = train_data['funder'].unique() # already unique...\n",
    "for i,f in enumerate(funders):\n",
    "    funders[i] = str(f).lower()\n",
    "funders = funders.astype(str)\n",
    "# ... using numpy.unique(funders) yields the same shape!"
   ]
  },
  {
   "cell_type": "code",
   "execution_count": 232,
   "metadata": {
    "collapsed": false
   },
   "outputs": [],
   "source": [
    "# find number of wells from each funder\n",
    "funders = train_data['funder'].unique() # unique funders\n",
    "frequency = np.zeros(funders.shape[0],np.int)\n",
    "for i,funder in enumerate(funders):\n",
    "    "
   ]
  },
  {
   "cell_type": "code",
   "execution_count": 235,
   "metadata": {
    "collapsed": false
   },
   "outputs": [
    {
     "data": {
      "text/plain": [
       "'Roman'"
      ]
     },
     "execution_count": 235,
     "metadata": {},
     "output_type": "execute_result"
    }
   ],
   "source": [
    "funders[0]"
   ]
  },
  {
   "cell_type": "code",
   "execution_count": 244,
   "metadata": {
    "collapsed": false
   },
   "outputs": [],
   "source": [
    "tdgbf=train_data.groupby(by='funder')"
   ]
  },
  {
   "cell_type": "code",
   "execution_count": 251,
   "metadata": {
    "collapsed": false
   },
   "outputs": [],
   "source": [
    "tdgbfs = tdgbf.size()"
   ]
  },
  {
   "cell_type": "code",
   "execution_count": 255,
   "metadata": {
    "collapsed": false
   },
   "outputs": [],
   "source": [
    "tdgbfs.sort(ascending=False)"
   ]
  },
  {
   "cell_type": "code",
   "execution_count": 271,
   "metadata": {
    "collapsed": false
   },
   "outputs": [],
   "source": [
    "funder_frequencies = train_data.groupby('funder').size()\n",
    "funder_frequencies.sort(ascending=False)\n",
    "funder_frequencies.apply(lambda f: f/(N*1.0))"
   ]
  },
  {
   "cell_type": "code",
   "execution_count": 284,
   "metadata": {
    "collapsed": false
   },
   "outputs": [],
   "source": [
    "# Given a category (column in train_data), return a Pandas series\n",
    "# that has the percentage of each well status for each item\n",
    "# e.g. frequencies('source_class') returns the percentage of each well type\n",
    "# for 'groundwater', 'surface', and 'unknown'\n",
    "def frequencies(category):\n",
    "    cat_frequencies = train_data.groupby(category).size()\n",
    "    cat_frequencies.sort(ascending=False)\n",
    "    cat_percents = cat_frequencies.apply(lambda f: (100.0*f)/(N*1.0))\n",
    "    return cat_percents"
   ]
  },
  {
   "cell_type": "code",
   "execution_count": 285,
   "metadata": {
    "collapsed": false
   },
   "outputs": [
    {
     "data": {
      "text/plain": [
       "Index([u'id', u'amount_tsh', u'date_recorded', u'funder', u'gps_height', u'installer', u'longitude', u'latitude', u'wpt_name', u'num_private', u'basin', u'subvillage', u'region', u'region_code', u'district_code', u'lga', u'ward', u'population', u'public_meeting', u'recorded_by', u'scheme_management', u'scheme_name', u'permit', u'construction_year', u'extraction_type', u'extraction_type_group', u'extraction_type_class', u'management', u'management_group', u'payment', u'payment_type', u'water_quality', u'quality_group', u'quantity', u'quantity_group', u'source', u'source_type', u'source_class', u'waterpoint_type', u'waterpoint_type_group'], dtype='object')"
      ]
     },
     "execution_count": 285,
     "metadata": {},
     "output_type": "execute_result"
    }
   ],
   "source": [
    "train_data.columns"
   ]
  },
  {
   "cell_type": "code",
   "execution_count": 458,
   "metadata": {
    "collapsed": false
   },
   "outputs": [],
   "source": [
    "asdf = frequencies('waterpoint_type')"
   ]
  },
  {
   "cell_type": "code",
   "execution_count": 476,
   "metadata": {
    "collapsed": false
   },
   "outputs": [
    {
     "data": {
      "text/plain": [
       "waterpoint_type_group\n",
       "communal standpipe       58.291246\n",
       "hand pump                29.441077\n",
       "other                    10.740741\n",
       "improved spring           1.319865\n",
       "cattle trough             0.195286\n",
       "dam                       0.011785\n",
       "dtype: float64"
      ]
     },
     "execution_count": 476,
     "metadata": {},
     "output_type": "execute_result"
    }
   ],
   "source": [
    "frequencies('waterpoint_type_group')"
   ]
  },
  {
   "cell_type": "code",
   "execution_count": 557,
   "metadata": {
    "collapsed": false
   },
   "outputs": [],
   "source": [
    "category = 'amount_tsh'\n",
    "status_groups = ['functional', 'functional needs repair', 'non functional']\n",
    "freq = frequencies(category)\n",
    "plt.figure()\n",
    "ratios = np.zeros((freq.shape[0],3),dtype=np.float)\n",
    "rerrs = np.zeros(ratios.shape,dtype=np.float)\n",
    "for i,label in enumerate(freq.axes[0]):\n",
    "    a=train_labels[train_data[category]==label].groupby('status_group').size()\n",
    "    missing = np.setdiff1d(status_groups,list(a.axes[0]))\n",
    "    a = a.append(pd.Series(np.zeros(missing.shape),missing))\n",
    "    ratios[i,:] = np.array([a['functional'],a['functional needs repair'],a['non functional']],dtype=np.float)/np.sum(a)\n",
    "    rerrs[i,:] = np.sqrt(ratios[i,:]*np.sum(a))/np.sum(a)\n",
    "for j,c in enumerate(['green','red','yellow']):\n",
    "    plt.bar(np.arange(0,i+1)+0.3*j,ratios[:,j],width=0.3,color=c,yerr=rerrs[:,j],error_kw=dict(ecolor='black'))\n",
    "plt.gca().xaxis.set_ticklabels(freq.axes[0])\n",
    "plt.gca().set_xticks(np.arange(0,i+1)+0.5)\n",
    "plt.gca().set_title(category).set_fontsize(18)"
   ]
  },
  {
   "cell_type": "code",
   "execution_count": 558,
   "metadata": {
    "collapsed": false
   },
   "outputs": [],
   "source": [
    "# Produces a bar chart that visually compares the percentage of each \n",
    "# well type for each label appearing in the given category (see frequencies)\n",
    "# NB: Categories appear in descending order of how many times they occur\n",
    "def category_bars(category):\n",
    "    status_groups = ['functional', 'functional needs repair', 'non functional']\n",
    "    freq = frequencies(category)\n",
    "    plt.figure()\n",
    "    ratios = np.zeros((freq.shape[0],3),dtype=np.float)\n",
    "    rerrs = np.zeros(ratios.shape,dtype=np.float)\n",
    "    for i,label in enumerate(freq.axes[0]):\n",
    "        a=train_labels[train_data[category]==label].groupby('status_group').size()\n",
    "        missing = np.setdiff1d(status_groups,list(a.axes[0]))\n",
    "        a = a.append(pd.Series(np.zeros(missing.shape),missing))\n",
    "        ratios[i,:] = np.array([a['functional'],a['functional needs repair'],a['non functional']],dtype=np.float)/np.sum(a)\n",
    "        rerrs[i,:] = np.sqrt(ratios[i,:]*np.sum(a))/np.sum(a)\n",
    "    for j,c in enumerate(['green','red','yellow']):\n",
    "        plt.bar(np.arange(0,i+1)+0.3*j,ratios[:,j],width=0.3,color=c,yerr=rerrs[:,j],error_kw=dict(ecolor='black'))\n",
    "    plt.gca().xaxis.set_ticklabels(freq.axes[0])\n",
    "    plt.gca().set_xticks(np.arange(0,i+1)+0.5)\n",
    "    plt.gca().set_title(category).set_fontsize(18)"
   ]
  },
  {
   "cell_type": "code",
   "execution_count": 565,
   "metadata": {
    "collapsed": false
   },
   "outputs": [],
   "source": [
    "# For a Python list of all categories\n",
    "cats = []\n",
    "for cat in train_data.columns:\n",
    "    cats += [cat]"
   ]
  },
  {
   "cell_type": "code",
   "execution_count": 566,
   "metadata": {
    "collapsed": false
   },
   "outputs": [
    {
     "data": {
      "text/plain": [
       "['id',\n",
       " 'amount_tsh',\n",
       " 'date_recorded',\n",
       " 'funder',\n",
       " 'gps_height',\n",
       " 'installer',\n",
       " 'longitude',\n",
       " 'latitude',\n",
       " 'wpt_name',\n",
       " 'num_private',\n",
       " 'basin',\n",
       " 'subvillage',\n",
       " 'region',\n",
       " 'region_code',\n",
       " 'district_code',\n",
       " 'lga',\n",
       " 'ward',\n",
       " 'population',\n",
       " 'public_meeting',\n",
       " 'recorded_by',\n",
       " 'scheme_management',\n",
       " 'scheme_name',\n",
       " 'permit',\n",
       " 'construction_year',\n",
       " 'extraction_type',\n",
       " 'extraction_type_group',\n",
       " 'extraction_type_class',\n",
       " 'management',\n",
       " 'management_group',\n",
       " 'payment',\n",
       " 'payment_type',\n",
       " 'water_quality',\n",
       " 'quality_group',\n",
       " 'quantity',\n",
       " 'quantity_group',\n",
       " 'source',\n",
       " 'source_type',\n",
       " 'source_class',\n",
       " 'waterpoint_type',\n",
       " 'waterpoint_type_group']"
      ]
     },
     "execution_count": 566,
     "metadata": {},
     "output_type": "execute_result"
    }
   ],
   "source": [
    "cats"
   ]
  },
  {
   "cell_type": "code",
   "execution_count": 567,
   "metadata": {
    "collapsed": false
   },
   "outputs": [],
   "source": [
    "# A list of all feature columns that are unique, have more than one\n",
    "# value, and have more than one well per value\n",
    "# NB: Many of these are probably unsuitable for direct use\n",
    "cats = [\n",
    " 'funder',\n",
    " 'installer',\n",
    " 'basin',\n",
    " 'region',\n",
    " 'region_code',\n",
    " 'district_code',\n",
    " 'population',\n",
    " 'public_meeting',\n",
    " 'scheme_management',\n",
    " 'scheme_name',\n",
    " 'permit',\n",
    " 'construction_year',\n",
    " 'extraction_type',\n",
    " 'extraction_type_group',\n",
    " 'extraction_type_class',\n",
    " 'management',\n",
    " 'management_group',\n",
    " 'payment',\n",
    " 'payment_type',\n",
    " 'water_quality',\n",
    " 'quality_group',\n",
    " 'quantity',\n",
    " 'quantity_group',\n",
    " 'source',\n",
    " 'source_type',\n",
    " 'source_class',\n",
    " 'waterpoint_type',\n",
    " 'waterpoint_type_group']"
   ]
  },
  {
   "cell_type": "code",
   "execution_count": 568,
   "metadata": {
    "collapsed": false
   },
   "outputs": [
    {
     "name": "stderr",
     "output_type": "stream",
     "text": [
      "/usr/lib/pymodules/python2.7/matplotlib/pyplot.py:412: RuntimeWarning: More than 20 figures have been opened. Figures created through the pyplot interface (`matplotlib.pyplot.figure`) are retained until explicitly closed and may consume too much memory. (To control this warning, see the rcParam `figure.max_num_figures`).\n",
      "  max_open_warning, RuntimeWarning)\n"
     ]
    }
   ],
   "source": [
    "# Generate bar charts for each category\n",
    "# Warning: Creates a lot of figures!\n",
    "# Warning: Takes a minute or two... some charts have thousands of bars!\n",
    "for cat in cats:\n",
    "    category_bars(cat)"
   ]
  },
  {
   "cell_type": "code",
   "execution_count": 1827,
   "metadata": {
    "collapsed": false
   },
   "outputs": [
    {
     "data": {
      "text/html": [
       "<div style=\"max-height:1000px;max-width:1500px;overflow:auto;\">\n",
       "<table border=\"1\" class=\"dataframe\">\n",
       "  <thead>\n",
       "    <tr style=\"text-align: right;\">\n",
       "      <th></th>\n",
       "      <th>id</th>\n",
       "    </tr>\n",
       "    <tr>\n",
       "      <th>status_group</th>\n",
       "      <th></th>\n",
       "    </tr>\n",
       "  </thead>\n",
       "  <tbody>\n",
       "    <tr>\n",
       "      <th>functional</th>\n",
       "      <td> 0.543081</td>\n",
       "    </tr>\n",
       "    <tr>\n",
       "      <th>functional needs repair</th>\n",
       "      <td> 0.072677</td>\n",
       "    </tr>\n",
       "    <tr>\n",
       "      <th>non functional</th>\n",
       "      <td> 0.384242</td>\n",
       "    </tr>\n",
       "  </tbody>\n",
       "</table>\n",
       "</div>"
      ],
      "text/plain": [
       "                               id\n",
       "status_group                     \n",
       "functional               0.543081\n",
       "functional needs repair  0.072677\n",
       "non functional           0.384242"
      ]
     },
     "execution_count": 1827,
     "metadata": {},
     "output_type": "execute_result"
    }
   ],
   "source": [
    "train_labels.groupby('status_group').count()/(1.0*N)"
   ]
  },
  {
   "cell_type": "code",
   "execution_count": 2287,
   "metadata": {
    "collapsed": false
   },
   "outputs": [],
   "source": [
    "x = np.linspace(0,1,5)\n",
    "y = np.linspace(10,11,5)\n",
    "X,Y = np.meshgrid(x,y)"
   ]
  },
  {
   "cell_type": "code",
   "execution_count": 2288,
   "metadata": {
    "collapsed": false
   },
   "outputs": [
    {
     "data": {
      "text/plain": [
       "array([[ 0.  ,  0.25,  0.5 ,  0.75,  1.  ],\n",
       "       [ 0.  ,  0.25,  0.5 ,  0.75,  1.  ],\n",
       "       [ 0.  ,  0.25,  0.5 ,  0.75,  1.  ],\n",
       "       [ 0.  ,  0.25,  0.5 ,  0.75,  1.  ],\n",
       "       [ 0.  ,  0.25,  0.5 ,  0.75,  1.  ]])"
      ]
     },
     "execution_count": 2288,
     "metadata": {},
     "output_type": "execute_result"
    }
   ],
   "source": [
    "X"
   ]
  },
  {
   "cell_type": "code",
   "execution_count": 2289,
   "metadata": {
    "collapsed": false
   },
   "outputs": [
    {
     "data": {
      "text/plain": [
       "<matplotlib.contour.QuadContourSet instance at 0x7f8a41e3e680>"
      ]
     },
     "execution_count": 2289,
     "metadata": {},
     "output_type": "execute_result"
    }
   ],
   "source": [
    "plt.figure(); plt.contour(X,Y,X+Y)"
   ]
  },
  {
   "cell_type": "code",
   "execution_count": 5,
   "metadata": {
    "collapsed": false
   },
   "outputs": [
    {
     "name": "stdout",
     "output_type": "stream",
     "text": [
      "Lake Nyasa\n",
      "Lake Victoria\n",
      "Pangani\n",
      "Ruvuma / Southern Coast\n",
      "Internal\n",
      "Lake Tanganyika\n",
      "Wami / Ruvu\n",
      "Rufiji\n",
      "Lake Rukwa\n"
     ]
    }
   ],
   "source": [
    "plt.figure()\n",
    "splitby = 'basin'\n",
    "plt.figure(); plt.gca().set_aspect('equal')\n",
    "segments = train_data[splitby].unique()\n",
    "has_gps = train_data['longitude']>0.1\n",
    "for s in segments:\n",
    "    mask = ((train_data[splitby]==s) & has_gps)\n",
    "    x = train_data[mask]['longitude']\n",
    "    y = train_data[mask]['latitude']\n",
    "    plt.plot(x,y,'o',markeredgecolor='k',alpha=0.3,markersize=4)\n",
    "    print \"%s\" %(s)\n",
    "plt.legend(segments)\n",
    "plt.set_cmap(plt.get_cmap('Greys'))"
   ]
  },
  {
   "cell_type": "code",
   "execution_count": 2564,
   "metadata": {
    "collapsed": false
   },
   "outputs": [
    {
     "data": {
      "text/plain": [
       "array(['Lake Nyasa', 'Lake Victoria', 'Pangani', 'Ruvuma / Southern Coast',\n",
       "       'Internal', 'Lake Tanganyika', 'Wami / Ruvu', 'Rufiji', 'Lake Rukwa'], dtype=object)"
      ]
     },
     "execution_count": 2564,
     "metadata": {},
     "output_type": "execute_result"
    }
   ],
   "source": [
    "basins"
   ]
  },
  {
   "cell_type": "code",
   "execution_count": 581,
   "metadata": {
    "collapsed": false
   },
   "outputs": [],
   "source": []
  },
  {
   "cell_type": "code",
   "execution_count": 581,
   "metadata": {
    "collapsed": false
   },
   "outputs": [],
   "source": []
  },
  {
   "cell_type": "code",
   "execution_count": 580,
   "metadata": {
    "collapsed": false
   },
   "outputs": [],
   "source": []
  },
  {
   "cell_type": "code",
   "execution_count": 581,
   "metadata": {
    "collapsed": false
   },
   "outputs": [],
   "source": []
  },
  {
   "cell_type": "code",
   "execution_count": null,
   "metadata": {
    "collapsed": false
   },
   "outputs": [],
   "source": []
  }
 ],
 "metadata": {
  "kernelspec": {
   "display_name": "Python 2",
   "language": "python",
   "name": "python2"
  },
  "language_info": {
   "codemirror_mode": {
    "name": "ipython",
    "version": 2
   },
   "file_extension": ".py",
   "mimetype": "text/x-python",
   "name": "python",
   "nbconvert_exporter": "python",
   "pygments_lexer": "ipython2",
   "version": "2.7.8"
  }
 },
 "nbformat": 4,
 "nbformat_minor": 0
}
