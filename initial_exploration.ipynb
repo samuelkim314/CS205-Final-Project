{
 "metadata": {
  "name": "",
  "signature": "sha256:ff2cbeba4397341cddd15ff730dcc31dfe391da5abba1ba2d6ecbdefca5bb715"
 },
 "nbformat": 3,
 "nbformat_minor": 0,
 "worksheets": [
  {
   "cells": [
    {
     "cell_type": "code",
     "collapsed": false,
     "input": [
      "# Needed modules\n",
      "import matplotlib.pyplot as plt\n",
      "import numpy as np\n",
      "from sklearn.neighbors import KNeighborsClassifier\n",
      "import pandas as pd\n",
      "import scipy as sp"
     ],
     "language": "python",
     "metadata": {},
     "outputs": [],
     "prompt_number": 2051
    },
    {
     "cell_type": "code",
     "collapsed": false,
     "input": [
      "# Import data and determine the number of samples\n",
      "train_data = pd.read_csv('train.csv')\n",
      "train_labels = pd.read_csv('train_label.csv')\n",
      "N = train_data.shape[0]"
     ],
     "language": "python",
     "metadata": {},
     "outputs": [],
     "prompt_number": 1854
    },
    {
     "cell_type": "code",
     "collapsed": false,
     "input": [],
     "language": "python",
     "metadata": {},
     "outputs": [],
     "prompt_number": 261
    },
    {
     "cell_type": "code",
     "collapsed": false,
     "input": [],
     "language": "python",
     "metadata": {},
     "outputs": [],
     "prompt_number": 261
    },
    {
     "cell_type": "code",
     "collapsed": false,
     "input": [],
     "language": "python",
     "metadata": {},
     "outputs": [],
     "prompt_number": 261
    },
    {
     "cell_type": "code",
     "collapsed": false,
     "input": [],
     "language": "python",
     "metadata": {},
     "outputs": [],
     "prompt_number": 261
    },
    {
     "cell_type": "code",
     "collapsed": false,
     "input": [],
     "language": "python",
     "metadata": {},
     "outputs": [],
     "prompt_number": 261
    },
    {
     "cell_type": "code",
     "collapsed": false,
     "input": [],
     "language": "python",
     "metadata": {},
     "outputs": [],
     "prompt_number": 261
    },
    {
     "cell_type": "code",
     "collapsed": false,
     "input": [],
     "language": "python",
     "metadata": {},
     "outputs": [],
     "prompt_number": 261
    },
    {
     "cell_type": "code",
     "collapsed": false,
     "input": [],
     "language": "python",
     "metadata": {},
     "outputs": [],
     "prompt_number": 261
    },
    {
     "cell_type": "code",
     "collapsed": false,
     "input": [],
     "language": "python",
     "metadata": {},
     "outputs": [],
     "prompt_number": 261
    },
    {
     "cell_type": "code",
     "collapsed": false,
     "input": [],
     "language": "python",
     "metadata": {},
     "outputs": [],
     "prompt_number": 261
    },
    {
     "cell_type": "code",
     "collapsed": false,
     "input": [
      "plt.close(\"all\")"
     ],
     "language": "python",
     "metadata": {},
     "outputs": [],
     "prompt_number": 582
    },
    {
     "cell_type": "code",
     "collapsed": false,
     "input": [
      "# Plot all well locations, NOT colored\n",
      "locations = np.array([train_data['longitude'],train_data['latitude']])\n",
      "locations = locations.transpose()\n",
      "plt.plot(locations[:,0],locations[:,1],'ko')"
     ],
     "language": "python",
     "metadata": {},
     "outputs": [
      {
       "metadata": {},
       "output_type": "pyout",
       "prompt_number": 1855,
       "text": [
        "[<matplotlib.lines.Line2D at 0x7f8a44843990>]"
       ]
      }
     ],
     "prompt_number": 1855
    },
    {
     "cell_type": "code",
     "collapsed": false,
     "input": [
      "# Plot all well locations, WITH COLOR\n",
      "# NB: Note the spatial clustering!\n",
      "status_groups = ['functional', 'functional needs repair', 'non functional']\n",
      "for i,c in enumerate(['green','red','green']):\n",
      "    x=train_data[train_labels['status_group']==status_groups[i]]['longitude']\n",
      "    y=train_data[train_labels['status_group']==status_groups[i]]['latitude']\n",
      "    plt.plot(x,y,'o',color=c,alpha=0.3)\n",
      "plt.gca().set_aspect('equal')\n",
      "plt.gca().set_xlim((29,41))"
     ],
     "language": "python",
     "metadata": {},
     "outputs": [
      {
       "metadata": {},
       "output_type": "pyout",
       "prompt_number": 2275,
       "text": [
        "(29, 41)"
       ]
      }
     ],
     "prompt_number": 2275
    },
    {
     "cell_type": "code",
     "collapsed": false,
     "input": [
      "# Obtain locations and statuses for wells with valid GPS locations\n",
      "# NB: 3.1% of the wells are missing location data\n",
      "has_gps = train_data['longitude']>1\n",
      "locations = np.array([train_data[has_gps]['longitude'].values,\n",
      "                      train_data[has_gps]['latitude'].values],dtype=np.float)\n",
      "locations = locations.transpose()\n",
      "statuses = train_labels[has_gps]['status_group'].values\n",
      "is_functional = (statuses != 'non functional')\n",
      "Ngps = statuses.shape[0]; print Ngps"
     ],
     "language": "python",
     "metadata": {},
     "outputs": [
      {
       "output_type": "stream",
       "stream": "stdout",
       "text": [
        "57588\n"
       ]
      }
     ],
     "prompt_number": 1856
    },
    {
     "cell_type": "code",
     "collapsed": false,
     "input": [
      "statuses[0:20]"
     ],
     "language": "python",
     "metadata": {},
     "outputs": [
      {
       "metadata": {},
       "output_type": "pyout",
       "prompt_number": 2113,
       "text": [
        "array(['functional', 'functional', 'functional', 'non functional',\n",
        "       'functional', 'functional', 'non functional', 'non functional',\n",
        "       'non functional', 'functional', 'functional', 'functional',\n",
        "       'functional', 'functional', 'functional', 'functional',\n",
        "       'non functional', 'non functional', 'functional needs repair',\n",
        "       'functional'], dtype=object)"
       ]
      }
     ],
     "prompt_number": 2113
    },
    {
     "cell_type": "code",
     "collapsed": false,
     "input": [
      "is_functional[0:20]"
     ],
     "language": "python",
     "metadata": {},
     "outputs": [
      {
       "metadata": {},
       "output_type": "pyout",
       "prompt_number": 2114,
       "text": [
        "array([ True,  True,  True, False,  True,  True, False, False, False,\n",
        "        True,  True,  True,  True,  True,  True,  True, False, False,\n",
        "        True,  True], dtype=bool)"
       ]
      }
     ],
     "prompt_number": 2114
    },
    {
     "cell_type": "code",
     "collapsed": false,
     "input": [
      "0.1/2**5"
     ],
     "language": "python",
     "metadata": {},
     "outputs": [
      {
       "metadata": {},
       "output_type": "pyout",
       "prompt_number": 2450,
       "text": [
        "0.003125"
       ]
      }
     ],
     "prompt_number": 2450
    },
    {
     "cell_type": "code",
     "collapsed": false,
     "input": [
      "scale = 0.004 # characteristic radius of a cluster in GPS coordinates\n",
      "q = 6.0/12\n",
      "def gaussian(distances,s=scale):\n",
      "    return np.exp(-np.power(distances,2.0)/(2*np.power(s,2.0)))\n",
      "\n",
      "def adaptive_gaussian(distances):\n",
      "    low = 0.001\n",
      "    high = 0.1\n",
      "    t = (low+high)/2.0\n",
      "    for i in xrange(8):\n",
      "        if (np.sum(np.exp(-np.power(distances,2)/(2.0*np.power(t,2)))) > k*q):\n",
      "            high = t\n",
      "        else:\n",
      "            low = t\n",
      "        t = (low+high)/2.0\n",
      "    return np.exp(-np.power(distances,2)/(2.0*np.power(t,2)))\n",
      "\n",
      "def linear_distance(distances):\n",
      "    return np.max(distances)-distances\n",
      "def inverse_distance(distances):\n",
      "    return 1.0/distances"
     ],
     "language": "python",
     "metadata": {},
     "outputs": [],
     "prompt_number": 2550
    },
    {
     "cell_type": "code",
     "collapsed": false,
     "input": [],
     "language": "python",
     "metadata": {},
     "outputs": [],
     "prompt_number": 2550
    },
    {
     "cell_type": "code",
     "collapsed": false,
     "input": [],
     "language": "python",
     "metadata": {},
     "outputs": [],
     "prompt_number": 2550
    },
    {
     "cell_type": "code",
     "collapsed": false,
     "input": [
      "# Split the dataset into three chunks: training, testing, and validation\n",
      "# Fraction t goes into training, (1-t)/2 go to testing and validation\n",
      "t = 0.8\n",
      "r = (1-t)/2\n",
      "random_indices = np.arange(Ngps,dtype=np.int)\n",
      "np.random.shuffle(random_indices) # in-place\n",
      "train_ind = random_indices[0:int(t*Ngps)]\n",
      "test_ind = random_indices[int(t*Ngps):int((t+r)*Ngps)]\n",
      "val_ind = random_indices[int((t+r)*Ngps):Ngps]"
     ],
     "language": "python",
     "metadata": {},
     "outputs": [],
     "prompt_number": 2551
    },
    {
     "cell_type": "code",
     "collapsed": false,
     "input": [
      "# Create and \"train\" the kNN classifier\n",
      "k = 12\n",
      "scale = 0.002\n",
      "q = 6.0/k\n",
      "weights = adaptive_gaussian\n",
      "algorithm = 'kd_tree'\n",
      "kNN_classifier = KNeighborsClassifier(leaf_size=260,\n",
      "   n_neighbors=k,weights=weights,algorithm=algorithm)\n",
      "kNN_classifier.fit(locations[train_ind,:],is_functional[train_ind])"
     ],
     "language": "python",
     "metadata": {},
     "outputs": [
      {
       "metadata": {},
       "output_type": "pyout",
       "prompt_number": 2552,
       "text": [
        "KNeighborsClassifier(algorithm='kd_tree', leaf_size=260, metric='minkowski',\n",
        "           n_neighbors=12, p=2,\n",
        "           weights=<function adaptive_gaussian at 0x7f8a6412a410>)"
       ]
      }
     ],
     "prompt_number": 2552
    },
    {
     "cell_type": "code",
     "collapsed": false,
     "input": [
      "predictions = kNN_classifier.predict(locations[test_ind,:])\n",
      "correct = np.sum(predictions == is_functional[test_ind])\n",
      "print correct*1.0/test_ind.shape[0]\n",
      "for state in [True,False]:\n",
      "    print \"\\t%s: %f\" %(state, np.sum((predictions==state)&(is_functional[test_ind]==state))*1.0/np.sum(is_functional[test_ind]==state))\n",
      "\n",
      "#for state in ['functional', 'functional needs repair','non functional']:\n",
      "#    print \"\\t%s: %f\" % (state, np.sum((predictions==state)&(statuses[test_ind]==state))*1.0/np.sum(statuses[test_ind]==state))"
     ],
     "language": "python",
     "metadata": {},
     "outputs": [
      {
       "output_type": "stream",
       "stream": "stdout",
       "text": [
        "0.720611217225\n",
        "\tTrue: 0.775941\n",
        "\tFalse: 0.634385\n"
       ]
      }
     ],
     "prompt_number": 2553
    },
    {
     "cell_type": "code",
     "collapsed": false,
     "input": [
      "s = 0.02\n",
      "#X,Y=np.meshgrid(np.linspace(np.min(locations[:,0]),np.max(locations[:,0]),1000),\n",
      "#            np.linspace(np.min(locations[:,1]),np.max(locations[:,1]),1000))\n",
      "X,Y=np.meshgrid(np.linspace(33.,34.,1000),\n",
      "            np.linspace(-9.,-8.,1000))\n",
      "P = np.zeros(X.shape)\n",
      "C = np.zeros(X.shape)\n",
      "for i in xrange(X.shape[0]):\n",
      "    P[:,i] = kNN_classifier.predict_proba(np.array([X[:,i],Y[:,i]]).T)[:,1]\n",
      "    g = kNN_classifier.kneighbors(np.array([X[:,i],Y[:,i]]).T)\n",
      "    C[:,i] = np.sum(np.exp(-np.power(g[0],2)/(2.0*np.power(s,2)))/k,axis=1)"
     ],
     "language": "python",
     "metadata": {},
     "outputs": [],
     "prompt_number": 2554
    },
    {
     "cell_type": "code",
     "collapsed": false,
     "input": [],
     "language": "python",
     "metadata": {},
     "outputs": [],
     "prompt_number": 2554
    },
    {
     "cell_type": "code",
     "collapsed": false,
     "input": [
      "plt.figure()\n",
      "plt.contourf(X,Y,P,[0.0,0.25, 0.5,0.75,1.0],cmap=plt.get_cmap('Greys')); plt.gca().set_aspect(\"equal\")\n",
      "plt.contour(X,Y,C,np.linspace(0.0,np.max(C),10),linewidths=2.0,cmap=plt.get_cmap('Blues'))\n",
      "# Plot all well locations, WITH COLOR\n",
      "# NB: Note the spatial clustering!\n",
      "status_groups = ['functional', 'functional needs repair', 'non functional']\n",
      "for i,c in enumerate(['green','green','red']):\n",
      "    x=train_data[train_labels['status_group']==status_groups[i]]['longitude'][train_ind]\n",
      "    y=train_data[train_labels['status_group']==status_groups[i]]['latitude'][train_ind]\n",
      "    plt.plot(x,y,'o',color=c)\n",
      "plt.gca().set_aspect('equal')\n",
      "plt.gca().set_xlim((29,41))\n",
      "plt.colorbar()"
     ],
     "language": "python",
     "metadata": {},
     "outputs": [
      {
       "metadata": {},
       "output_type": "pyout",
       "prompt_number": 2555,
       "text": [
        "<matplotlib.colorbar.Colorbar instance at 0x7f8a6326f248>"
       ]
      }
     ],
     "prompt_number": 2555
    },
    {
     "cell_type": "code",
     "collapsed": false,
     "input": [
      "np.sum(gaussian(kNN_classifier.kneighbors([33.4,-9.0])[0]))/k"
     ],
     "language": "python",
     "metadata": {},
     "outputs": [
      {
       "metadata": {},
       "output_type": "pyout",
       "prompt_number": 2418,
       "text": [
        "1.1793319945616944e-07"
       ]
      }
     ],
     "prompt_number": 2418
    },
    {
     "cell_type": "code",
     "collapsed": false,
     "input": [
      "kNN_classifier.predict_proba(locations[0,:])[0][1]"
     ],
     "language": "python",
     "metadata": {},
     "outputs": [
      {
       "metadata": {},
       "output_type": "pyout",
       "prompt_number": 2309,
       "text": [
        "1.0"
       ]
      }
     ],
     "prompt_number": 2309
    },
    {
     "cell_type": "code",
     "collapsed": false,
     "input": [
      "validated = kNN_classifier.predict(locations[val_ind,:])\n",
      "correct = np.sum(validated==statuses[val_ind])\n",
      "print correct*1.0/val_ind.shape[0]"
     ],
     "language": "python",
     "metadata": {},
     "outputs": [
      {
       "output_type": "stream",
       "stream": "stdout",
       "text": [
        "0.0\n"
       ]
      }
     ],
     "prompt_number": 2411
    },
    {
     "cell_type": "code",
     "collapsed": false,
     "input": [
      "vor = sp.spatial.Voronoi(locations[::100])\n",
      "sp.spatial.voronoi_plot_2d(vor)\n",
      "plt.show()"
     ],
     "language": "python",
     "metadata": {},
     "outputs": [],
     "prompt_number": 2054
    },
    {
     "cell_type": "code",
     "collapsed": false,
     "input": [],
     "language": "python",
     "metadata": {},
     "outputs": [
      {
       "metadata": {},
       "output_type": "pyout",
       "prompt_number": 1258,
       "text": [
        "array([ True,  True, False, ..., False, False, False], dtype=bool)"
       ]
      }
     ],
     "prompt_number": 1258
    },
    {
     "cell_type": "code",
     "collapsed": false,
     "input": [
      "plt.gcf().tight_layout()"
     ],
     "language": "python",
     "metadata": {},
     "outputs": [],
     "prompt_number": 589
    },
    {
     "cell_type": "code",
     "collapsed": false,
     "input": [
      "a = plt.gca()"
     ],
     "language": "python",
     "metadata": {},
     "outputs": [],
     "prompt_number": 167
    },
    {
     "cell_type": "code",
     "collapsed": false,
     "input": [
      "a.set_aspect('equal')"
     ],
     "language": "python",
     "metadata": {},
     "outputs": [],
     "prompt_number": 168
    },
    {
     "cell_type": "code",
     "collapsed": false,
     "input": [
      "funders = train_data['funder'].unique() # already unique...\n",
      "for i,f in enumerate(funders):\n",
      "    funders[i] = str(f).lower()\n",
      "funders = funders.astype(str)\n",
      "# ... using numpy.unique(funders) yields the same shape!"
     ],
     "language": "python",
     "metadata": {},
     "outputs": [],
     "prompt_number": 226
    },
    {
     "cell_type": "code",
     "collapsed": false,
     "input": [
      "# find number of wells from each funder\n",
      "funders = train_data['funder'].unique() # unique funders\n",
      "frequency = np.zeros(funders.shape[0],np.int)\n",
      "for i,funder in enumerate(funders):\n",
      "    "
     ],
     "language": "python",
     "metadata": {},
     "outputs": [],
     "prompt_number": 232
    },
    {
     "cell_type": "code",
     "collapsed": false,
     "input": [
      "funders[0]"
     ],
     "language": "python",
     "metadata": {},
     "outputs": [
      {
       "metadata": {},
       "output_type": "pyout",
       "prompt_number": 235,
       "text": [
        "'Roman'"
       ]
      }
     ],
     "prompt_number": 235
    },
    {
     "cell_type": "code",
     "collapsed": false,
     "input": [
      "tdgbf=train_data.groupby(by='funder')"
     ],
     "language": "python",
     "metadata": {},
     "outputs": [],
     "prompt_number": 244
    },
    {
     "cell_type": "code",
     "collapsed": false,
     "input": [
      "tdgbfs = tdgbf.size()"
     ],
     "language": "python",
     "metadata": {},
     "outputs": [],
     "prompt_number": 251
    },
    {
     "cell_type": "code",
     "collapsed": false,
     "input": [
      "tdgbfs.sort(ascending=False)"
     ],
     "language": "python",
     "metadata": {},
     "outputs": [],
     "prompt_number": 255
    },
    {
     "cell_type": "code",
     "collapsed": false,
     "input": [
      "funder_frequencies = train_data.groupby('funder').size()\n",
      "funder_frequencies.sort(ascending=False)\n",
      "funder_frequencies.apply(lambda f: f/(N*1.0))"
     ],
     "language": "python",
     "metadata": {},
     "outputs": [],
     "prompt_number": 271
    },
    {
     "cell_type": "code",
     "collapsed": false,
     "input": [
      "# Given a category (column in train_data), return a Pandas series\n",
      "# that has the percentage of each well status for each item\n",
      "# e.g. frequencies('source_class') returns the percentage of each well type\n",
      "# for 'groundwater', 'surface', and 'unknown'\n",
      "def frequencies(category):\n",
      "    cat_frequencies = train_data.groupby(category).size()\n",
      "    cat_frequencies.sort(ascending=False)\n",
      "    cat_percents = cat_frequencies.apply(lambda f: (100.0*f)/(N*1.0))\n",
      "    return cat_percents"
     ],
     "language": "python",
     "metadata": {},
     "outputs": [],
     "prompt_number": 284
    },
    {
     "cell_type": "code",
     "collapsed": false,
     "input": [
      "train_data.columns"
     ],
     "language": "python",
     "metadata": {},
     "outputs": [
      {
       "metadata": {},
       "output_type": "pyout",
       "prompt_number": 285,
       "text": [
        "Index([u'id', u'amount_tsh', u'date_recorded', u'funder', u'gps_height', u'installer', u'longitude', u'latitude', u'wpt_name', u'num_private', u'basin', u'subvillage', u'region', u'region_code', u'district_code', u'lga', u'ward', u'population', u'public_meeting', u'recorded_by', u'scheme_management', u'scheme_name', u'permit', u'construction_year', u'extraction_type', u'extraction_type_group', u'extraction_type_class', u'management', u'management_group', u'payment', u'payment_type', u'water_quality', u'quality_group', u'quantity', u'quantity_group', u'source', u'source_type', u'source_class', u'waterpoint_type', u'waterpoint_type_group'], dtype='object')"
       ]
      }
     ],
     "prompt_number": 285
    },
    {
     "cell_type": "code",
     "collapsed": false,
     "input": [
      "asdf = frequencies('waterpoint_type')"
     ],
     "language": "python",
     "metadata": {},
     "outputs": [],
     "prompt_number": 458
    },
    {
     "cell_type": "code",
     "collapsed": false,
     "input": [
      "frequencies('waterpoint_type_group')"
     ],
     "language": "python",
     "metadata": {},
     "outputs": [
      {
       "metadata": {},
       "output_type": "pyout",
       "prompt_number": 476,
       "text": [
        "waterpoint_type_group\n",
        "communal standpipe       58.291246\n",
        "hand pump                29.441077\n",
        "other                    10.740741\n",
        "improved spring           1.319865\n",
        "cattle trough             0.195286\n",
        "dam                       0.011785\n",
        "dtype: float64"
       ]
      }
     ],
     "prompt_number": 476
    },
    {
     "cell_type": "code",
     "collapsed": false,
     "input": [
      "category = 'amount_tsh'\n",
      "status_groups = ['functional', 'functional needs repair', 'non functional']\n",
      "freq = frequencies(category)\n",
      "plt.figure()\n",
      "ratios = np.zeros((freq.shape[0],3),dtype=np.float)\n",
      "rerrs = np.zeros(ratios.shape,dtype=np.float)\n",
      "for i,label in enumerate(freq.axes[0]):\n",
      "    a=train_labels[train_data[category]==label].groupby('status_group').size()\n",
      "    missing = np.setdiff1d(status_groups,list(a.axes[0]))\n",
      "    a = a.append(pd.Series(np.zeros(missing.shape),missing))\n",
      "    ratios[i,:] = np.array([a['functional'],a['functional needs repair'],a['non functional']],dtype=np.float)/np.sum(a)\n",
      "    rerrs[i,:] = np.sqrt(ratios[i,:]*np.sum(a))/np.sum(a)\n",
      "for j,c in enumerate(['green','red','yellow']):\n",
      "    plt.bar(np.arange(0,i+1)+0.3*j,ratios[:,j],width=0.3,color=c,yerr=rerrs[:,j],error_kw=dict(ecolor='black'))\n",
      "plt.gca().xaxis.set_ticklabels(freq.axes[0])\n",
      "plt.gca().set_xticks(np.arange(0,i+1)+0.5)\n",
      "plt.gca().set_title(category).set_fontsize(18)"
     ],
     "language": "python",
     "metadata": {},
     "outputs": [],
     "prompt_number": 557
    },
    {
     "cell_type": "code",
     "collapsed": false,
     "input": [
      "# Produces a bar chart that visually compares the percentage of each \n",
      "# well type for each label appearing in the given category (see frequencies)\n",
      "# NB: Categories appear in descending order of how many times they occur\n",
      "def category_bars(category):\n",
      "    status_groups = ['functional', 'functional needs repair', 'non functional']\n",
      "    freq = frequencies(category)\n",
      "    plt.figure()\n",
      "    ratios = np.zeros((freq.shape[0],3),dtype=np.float)\n",
      "    rerrs = np.zeros(ratios.shape,dtype=np.float)\n",
      "    for i,label in enumerate(freq.axes[0]):\n",
      "        a=train_labels[train_data[category]==label].groupby('status_group').size()\n",
      "        missing = np.setdiff1d(status_groups,list(a.axes[0]))\n",
      "        a = a.append(pd.Series(np.zeros(missing.shape),missing))\n",
      "        ratios[i,:] = np.array([a['functional'],a['functional needs repair'],a['non functional']],dtype=np.float)/np.sum(a)\n",
      "        rerrs[i,:] = np.sqrt(ratios[i,:]*np.sum(a))/np.sum(a)\n",
      "    for j,c in enumerate(['green','red','yellow']):\n",
      "        plt.bar(np.arange(0,i+1)+0.3*j,ratios[:,j],width=0.3,color=c,yerr=rerrs[:,j],error_kw=dict(ecolor='black'))\n",
      "    plt.gca().xaxis.set_ticklabels(freq.axes[0])\n",
      "    plt.gca().set_xticks(np.arange(0,i+1)+0.5)\n",
      "    plt.gca().set_title(category).set_fontsize(18)"
     ],
     "language": "python",
     "metadata": {},
     "outputs": [],
     "prompt_number": 558
    },
    {
     "cell_type": "code",
     "collapsed": false,
     "input": [
      "# For a Python list of all categories\n",
      "cats = []\n",
      "for cat in train_data.columns:\n",
      "    cats += [cat]"
     ],
     "language": "python",
     "metadata": {},
     "outputs": [],
     "prompt_number": 565
    },
    {
     "cell_type": "code",
     "collapsed": false,
     "input": [
      "cats"
     ],
     "language": "python",
     "metadata": {},
     "outputs": [
      {
       "metadata": {},
       "output_type": "pyout",
       "prompt_number": 566,
       "text": [
        "['id',\n",
        " 'amount_tsh',\n",
        " 'date_recorded',\n",
        " 'funder',\n",
        " 'gps_height',\n",
        " 'installer',\n",
        " 'longitude',\n",
        " 'latitude',\n",
        " 'wpt_name',\n",
        " 'num_private',\n",
        " 'basin',\n",
        " 'subvillage',\n",
        " 'region',\n",
        " 'region_code',\n",
        " 'district_code',\n",
        " 'lga',\n",
        " 'ward',\n",
        " 'population',\n",
        " 'public_meeting',\n",
        " 'recorded_by',\n",
        " 'scheme_management',\n",
        " 'scheme_name',\n",
        " 'permit',\n",
        " 'construction_year',\n",
        " 'extraction_type',\n",
        " 'extraction_type_group',\n",
        " 'extraction_type_class',\n",
        " 'management',\n",
        " 'management_group',\n",
        " 'payment',\n",
        " 'payment_type',\n",
        " 'water_quality',\n",
        " 'quality_group',\n",
        " 'quantity',\n",
        " 'quantity_group',\n",
        " 'source',\n",
        " 'source_type',\n",
        " 'source_class',\n",
        " 'waterpoint_type',\n",
        " 'waterpoint_type_group']"
       ]
      }
     ],
     "prompt_number": 566
    },
    {
     "cell_type": "code",
     "collapsed": false,
     "input": [
      "# A list of all feature columns that are unique, have more than one\n",
      "# value, and have more than one well per value\n",
      "# NB: Many of these are probably unsuitable for direct use\n",
      "cats = [\n",
      " 'funder',\n",
      " 'installer',\n",
      " 'basin',\n",
      " 'region',\n",
      " 'region_code',\n",
      " 'district_code',\n",
      " 'population',\n",
      " 'public_meeting',\n",
      " 'scheme_management',\n",
      " 'scheme_name',\n",
      " 'permit',\n",
      " 'construction_year',\n",
      " 'extraction_type',\n",
      " 'extraction_type_group',\n",
      " 'extraction_type_class',\n",
      " 'management',\n",
      " 'management_group',\n",
      " 'payment',\n",
      " 'payment_type',\n",
      " 'water_quality',\n",
      " 'quality_group',\n",
      " 'quantity',\n",
      " 'quantity_group',\n",
      " 'source',\n",
      " 'source_type',\n",
      " 'source_class',\n",
      " 'waterpoint_type',\n",
      " 'waterpoint_type_group']"
     ],
     "language": "python",
     "metadata": {},
     "outputs": [],
     "prompt_number": 567
    },
    {
     "cell_type": "code",
     "collapsed": false,
     "input": [
      "# Generate bar charts for each category\n",
      "# Warning: Creates a lot of figures!\n",
      "# Warning: Takes a minute or two... some charts have thousands of bars!\n",
      "for cat in cats:\n",
      "    category_bars(cat)"
     ],
     "language": "python",
     "metadata": {},
     "outputs": [
      {
       "output_type": "stream",
       "stream": "stderr",
       "text": [
        "/usr/lib/pymodules/python2.7/matplotlib/pyplot.py:412: RuntimeWarning: More than 20 figures have been opened. Figures created through the pyplot interface (`matplotlib.pyplot.figure`) are retained until explicitly closed and may consume too much memory. (To control this warning, see the rcParam `figure.max_num_figures`).\n",
        "  max_open_warning, RuntimeWarning)\n"
       ]
      }
     ],
     "prompt_number": 568
    },
    {
     "cell_type": "code",
     "collapsed": false,
     "input": [
      "train_labels.groupby('status_group').count()/(1.0*N)"
     ],
     "language": "python",
     "metadata": {},
     "outputs": [
      {
       "html": [
        "<div style=\"max-height:1000px;max-width:1500px;overflow:auto;\">\n",
        "<table border=\"1\" class=\"dataframe\">\n",
        "  <thead>\n",
        "    <tr style=\"text-align: right;\">\n",
        "      <th></th>\n",
        "      <th>id</th>\n",
        "    </tr>\n",
        "    <tr>\n",
        "      <th>status_group</th>\n",
        "      <th></th>\n",
        "    </tr>\n",
        "  </thead>\n",
        "  <tbody>\n",
        "    <tr>\n",
        "      <th>functional</th>\n",
        "      <td> 0.543081</td>\n",
        "    </tr>\n",
        "    <tr>\n",
        "      <th>functional needs repair</th>\n",
        "      <td> 0.072677</td>\n",
        "    </tr>\n",
        "    <tr>\n",
        "      <th>non functional</th>\n",
        "      <td> 0.384242</td>\n",
        "    </tr>\n",
        "  </tbody>\n",
        "</table>\n",
        "</div>"
       ],
       "metadata": {},
       "output_type": "pyout",
       "prompt_number": 1827,
       "text": [
        "                               id\n",
        "status_group                     \n",
        "functional               0.543081\n",
        "functional needs repair  0.072677\n",
        "non functional           0.384242"
       ]
      }
     ],
     "prompt_number": 1827
    },
    {
     "cell_type": "code",
     "collapsed": false,
     "input": [
      "x = np.linspace(0,1,5)\n",
      "y = np.linspace(10,11,5)\n",
      "X,Y = np.meshgrid(x,y)"
     ],
     "language": "python",
     "metadata": {},
     "outputs": [],
     "prompt_number": 2287
    },
    {
     "cell_type": "code",
     "collapsed": false,
     "input": [
      "X"
     ],
     "language": "python",
     "metadata": {},
     "outputs": [
      {
       "metadata": {},
       "output_type": "pyout",
       "prompt_number": 2288,
       "text": [
        "array([[ 0.  ,  0.25,  0.5 ,  0.75,  1.  ],\n",
        "       [ 0.  ,  0.25,  0.5 ,  0.75,  1.  ],\n",
        "       [ 0.  ,  0.25,  0.5 ,  0.75,  1.  ],\n",
        "       [ 0.  ,  0.25,  0.5 ,  0.75,  1.  ],\n",
        "       [ 0.  ,  0.25,  0.5 ,  0.75,  1.  ]])"
       ]
      }
     ],
     "prompt_number": 2288
    },
    {
     "cell_type": "code",
     "collapsed": false,
     "input": [
      "plt.figure(); plt.contour(X,Y,X+Y)"
     ],
     "language": "python",
     "metadata": {},
     "outputs": [
      {
       "metadata": {},
       "output_type": "pyout",
       "prompt_number": 2289,
       "text": [
        "<matplotlib.contour.QuadContourSet instance at 0x7f8a41e3e680>"
       ]
      }
     ],
     "prompt_number": 2289
    },
    {
     "cell_type": "code",
     "collapsed": false,
     "input": [],
     "language": "python",
     "metadata": {},
     "outputs": [],
     "prompt_number": 581
    },
    {
     "cell_type": "code",
     "collapsed": false,
     "input": [],
     "language": "python",
     "metadata": {},
     "outputs": [],
     "prompt_number": 581
    },
    {
     "cell_type": "code",
     "collapsed": false,
     "input": [],
     "language": "python",
     "metadata": {},
     "outputs": [],
     "prompt_number": 581
    },
    {
     "cell_type": "code",
     "collapsed": false,
     "input": [],
     "language": "python",
     "metadata": {},
     "outputs": [],
     "prompt_number": 581
    },
    {
     "cell_type": "code",
     "collapsed": false,
     "input": [],
     "language": "python",
     "metadata": {},
     "outputs": [],
     "prompt_number": 580
    },
    {
     "cell_type": "code",
     "collapsed": false,
     "input": [
      "plt.gcf().tight_layout()"
     ],
     "language": "python",
     "metadata": {},
     "outputs": [],
     "prompt_number": 581
    },
    {
     "cell_type": "code",
     "collapsed": false,
     "input": [],
     "language": "python",
     "metadata": {},
     "outputs": []
    }
   ],
   "metadata": {}
  }
 ]
}