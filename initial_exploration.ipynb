{
 "metadata": {
  "name": "",
  "signature": "sha256:7f9859b06dafdc9d7d73dce4fb91fadf51a561288b619f6ae968a25ba40e4608"
 },
 "nbformat": 3,
 "nbformat_minor": 0,
 "worksheets": [
  {
   "cells": [
    {
     "cell_type": "code",
     "collapsed": false,
     "input": [
      "# Needed modules\n",
      "import matplotlib.pyplot as plt\n",
      "import numpy as np\n",
      "from sklearn.neighbors import KNeighborsClassifier\n",
      "import pandas as pd"
     ],
     "language": "python",
     "metadata": {},
     "outputs": [],
     "prompt_number": 592
    },
    {
     "cell_type": "code",
     "collapsed": false,
     "input": [
      "# Import data and determine the number of samples\n",
      "train_data = pd.read_csv('train.csv')\n",
      "train_labels = pd.read_csv('train_label.csv')\n",
      "N = train_data.shape[0]"
     ],
     "language": "python",
     "metadata": {},
     "outputs": [],
     "prompt_number": 261
    },
    {
     "cell_type": "code",
     "collapsed": false,
     "input": [],
     "language": "python",
     "metadata": {},
     "outputs": [],
     "prompt_number": 261
    },
    {
     "cell_type": "code",
     "collapsed": false,
     "input": [],
     "language": "python",
     "metadata": {},
     "outputs": [],
     "prompt_number": 261
    },
    {
     "cell_type": "code",
     "collapsed": false,
     "input": [],
     "language": "python",
     "metadata": {},
     "outputs": [],
     "prompt_number": 261
    },
    {
     "cell_type": "code",
     "collapsed": false,
     "input": [],
     "language": "python",
     "metadata": {},
     "outputs": [],
     "prompt_number": 261
    },
    {
     "cell_type": "code",
     "collapsed": false,
     "input": [],
     "language": "python",
     "metadata": {},
     "outputs": [],
     "prompt_number": 261
    },
    {
     "cell_type": "code",
     "collapsed": false,
     "input": [],
     "language": "python",
     "metadata": {},
     "outputs": [],
     "prompt_number": 261
    },
    {
     "cell_type": "code",
     "collapsed": false,
     "input": [],
     "language": "python",
     "metadata": {},
     "outputs": [],
     "prompt_number": 261
    },
    {
     "cell_type": "code",
     "collapsed": false,
     "input": [],
     "language": "python",
     "metadata": {},
     "outputs": [],
     "prompt_number": 261
    },
    {
     "cell_type": "code",
     "collapsed": false,
     "input": [],
     "language": "python",
     "metadata": {},
     "outputs": [],
     "prompt_number": 261
    },
    {
     "cell_type": "code",
     "collapsed": false,
     "input": [],
     "language": "python",
     "metadata": {},
     "outputs": [],
     "prompt_number": 261
    },
    {
     "cell_type": "code",
     "collapsed": false,
     "input": [
      "plt.close(\"all\")"
     ],
     "language": "python",
     "metadata": {},
     "outputs": [],
     "prompt_number": 582
    },
    {
     "cell_type": "code",
     "collapsed": false,
     "input": [
      "# Plot all well locations, NOT colored\n",
      "locations = np.array([train_data['longitude'],train_data['latitude']])\n",
      "locations = locations.transpose()\n",
      "plt.plot(locations[:,0],locations[:,1],'ko')"
     ],
     "language": "python",
     "metadata": {},
     "outputs": [],
     "prompt_number": 157
    },
    {
     "cell_type": "code",
     "collapsed": false,
     "input": [
      "# Plot all well locations, WITH COLOR\n",
      "# NB: Note the spatial clustering!\n",
      "status_groups = ['functional', 'functional needs repair', 'non functional']\n",
      "plt.figure()\n",
      "for i,c in enumerate(['green','red','yellow']):\n",
      "    x=train_data[train_labels['status_group']==status_groups[i]]['longitude']\n",
      "    y=train_data[train_labels['status_group']==status_groups[i]]['latitude']\n",
      "    plt.plot(x,y,'o',color=c,alpha=0.3)\n",
      "plt.gca().set_aspect('equal')\n",
      "plt.gca().set_xlim((29,41))"
     ],
     "language": "python",
     "metadata": {},
     "outputs": [
      {
       "metadata": {},
       "output_type": "pyout",
       "prompt_number": 588,
       "text": [
        "(29, 41)"
       ]
      }
     ],
     "prompt_number": 588
    },
    {
     "cell_type": "code",
     "collapsed": false,
     "input": [
      "# Obtain locations and statuses for wells with valid GPS locations\n",
      "# NB: 3.1% of the wells are missing location data\n",
      "has_gps = train_data['longitude']>1\n",
      "locations = np.array([train_data[has_gps]['longitude'].values,\n",
      "                      train_data[has_gps]['latitude'].values],dtype=np.float)\n",
      "locations = locations.transpose()\n",
      "statuses = train_labels[has_gps]['status_group'].values\n",
      "Ngps = statuses.shape[0]; print Ngps"
     ],
     "language": "python",
     "metadata": {},
     "outputs": [
      {
       "output_type": "stream",
       "stream": "stdout",
       "text": [
        "57588\n"
       ]
      }
     ],
     "prompt_number": 620
    },
    {
     "cell_type": "code",
     "collapsed": false,
     "input": [
      "scale = 0.004 # characteristic radius of a cluster in GPS coordinates\n",
      "def gaussian(distances):\n",
      "    return np.exp(-np.power(distances,2.0)/(2*np.power(scale,2)))"
     ],
     "language": "python",
     "metadata": {},
     "outputs": [],
     "prompt_number": 746
    },
    {
     "cell_type": "code",
     "collapsed": false,
     "input": [
      "scale = 0.004; gaussian([0.0, scale, 3*scale])"
     ],
     "language": "python",
     "metadata": {},
     "outputs": [
      {
       "metadata": {},
       "output_type": "pyout",
       "prompt_number": 748,
       "text": [
        "array([ 1.        ,  0.60653066,  0.011109  ])"
       ]
      }
     ],
     "prompt_number": 748
    },
    {
     "cell_type": "code",
     "collapsed": false,
     "input": [
      "# Split the dataset into three chunks: training, testing, and validation\n",
      "# Fraction t goes into training, (1-t)/2 go to testing and validation\n",
      "t = 0.8\n",
      "r = (1-t)/2\n",
      "random_indices = np.arange(Ngps,dtype=np.int)\n",
      "np.random.shuffle(random_indices) # in-place\n",
      "train_ind = random_indices[0:int(t*Ngps)]\n",
      "test_ind = random_indices[int(t*Ngps):int((t+r)*Ngps)]\n",
      "val_ind = random_indices[int((t+r)*Ngps):Ngps]"
     ],
     "language": "python",
     "metadata": {},
     "outputs": [],
     "prompt_number": 1851
    },
    {
     "cell_type": "code",
     "collapsed": false,
     "input": [
      "# Create and \"train\" the kNN classifier\n",
      "k = 5\n",
      "scale = 0.003\n",
      "weights = 'distance'\n",
      "algorithm = 'auto'\n",
      "kNN_classifier = KNeighborsClassifier(\n",
      "   n_neighbors=k,weights=weights,algorithm=algorithm)\n",
      "kNN_classifier.fit(locations[train_ind,:],statuses[train_ind])"
     ],
     "language": "python",
     "metadata": {},
     "outputs": [
      {
       "metadata": {},
       "output_type": "pyout",
       "prompt_number": 1852,
       "text": [
        "KNeighborsClassifier(algorithm='auto', leaf_size=30, metric='minkowski',\n",
        "           n_neighbors=5, p=2, weights='distance')"
       ]
      }
     ],
     "prompt_number": 1852
    },
    {
     "cell_type": "code",
     "collapsed": false,
     "input": [
      "predictions = kNN_classifier.predict(locations[test_ind,:])\n",
      "correct = np.sum(predictions == statuses[test_ind])\n",
      "print correct*1.0/test_ind.shape[0]\n",
      "for state in ['functional', 'functional needs repair','non functional']:\n",
      "    print \"\\t%s: %f\" % (state, np.sum((predictions==state)&(statuses[test_ind]==state))*1.0/np.sum(statuses[test_ind]==state))"
     ],
     "language": "python",
     "metadata": {},
     "outputs": [
      {
       "output_type": "stream",
       "stream": "stdout",
       "text": [
        "0.68484111825\n",
        "\tfunctional: 0.757329\n",
        "\tfunctional needs repair: 0.331646\n",
        "\tnon functional: 0.648649\n"
       ]
      }
     ],
     "prompt_number": 1848
    },
    {
     "cell_type": "code",
     "collapsed": false,
     "input": [
      "validated = kNN_classifier.predict(locations[val_ind,:])\n",
      "correct = np.sum(validated==statuses[val_ind])\n",
      "print correct*1.0/val_ind.shape[0]"
     ],
     "language": "python",
     "metadata": {},
     "outputs": [
      {
       "output_type": "stream",
       "stream": "stdout",
       "text": [
        "0.64872373676\n"
       ]
      }
     ],
     "prompt_number": 1830
    },
    {
     "cell_type": "code",
     "collapsed": false,
     "input": [
      "(predictions=='functional') & (statuses[test_ind]=='functional')"
     ],
     "language": "python",
     "metadata": {},
     "outputs": [
      {
       "metadata": {},
       "output_type": "pyout",
       "prompt_number": 1259,
       "text": [
        "array([ True,  True, False, ..., False, False, False], dtype=bool)"
       ]
      }
     ],
     "prompt_number": 1259
    },
    {
     "cell_type": "code",
     "collapsed": false,
     "input": [],
     "language": "python",
     "metadata": {},
     "outputs": [
      {
       "metadata": {},
       "output_type": "pyout",
       "prompt_number": 1258,
       "text": [
        "array([ True,  True, False, ..., False, False, False], dtype=bool)"
       ]
      }
     ],
     "prompt_number": 1258
    },
    {
     "cell_type": "code",
     "collapsed": false,
     "input": [
      "plt.gcf().tight_layout()"
     ],
     "language": "python",
     "metadata": {},
     "outputs": [],
     "prompt_number": 589
    },
    {
     "cell_type": "code",
     "collapsed": false,
     "input": [
      "a = plt.gca()"
     ],
     "language": "python",
     "metadata": {},
     "outputs": [],
     "prompt_number": 167
    },
    {
     "cell_type": "code",
     "collapsed": false,
     "input": [
      "a.set_aspect('equal')"
     ],
     "language": "python",
     "metadata": {},
     "outputs": [],
     "prompt_number": 168
    },
    {
     "cell_type": "code",
     "collapsed": false,
     "input": [
      "funders = train_data['funder'].unique() # already unique...\n",
      "for i,f in enumerate(funders):\n",
      "    funders[i] = str(f).lower()\n",
      "funders = funders.astype(str)\n",
      "# ... using numpy.unique(funders) yields the same shape!"
     ],
     "language": "python",
     "metadata": {},
     "outputs": [],
     "prompt_number": 226
    },
    {
     "cell_type": "code",
     "collapsed": false,
     "input": [
      "# find number of wells from each funder\n",
      "funders = train_data['funder'].unique() # unique funders\n",
      "frequency = np.zeros(funders.shape[0],np.int)\n",
      "for i,funder in enumerate(funders):\n",
      "    "
     ],
     "language": "python",
     "metadata": {},
     "outputs": [],
     "prompt_number": 232
    },
    {
     "cell_type": "code",
     "collapsed": false,
     "input": [
      "funders[0]"
     ],
     "language": "python",
     "metadata": {},
     "outputs": [
      {
       "metadata": {},
       "output_type": "pyout",
       "prompt_number": 235,
       "text": [
        "'Roman'"
       ]
      }
     ],
     "prompt_number": 235
    },
    {
     "cell_type": "code",
     "collapsed": false,
     "input": [
      "tdgbf=train_data.groupby(by='funder')"
     ],
     "language": "python",
     "metadata": {},
     "outputs": [],
     "prompt_number": 244
    },
    {
     "cell_type": "code",
     "collapsed": false,
     "input": [
      "tdgbfs = tdgbf.size()"
     ],
     "language": "python",
     "metadata": {},
     "outputs": [],
     "prompt_number": 251
    },
    {
     "cell_type": "code",
     "collapsed": false,
     "input": [
      "tdgbfs.sort(ascending=False)"
     ],
     "language": "python",
     "metadata": {},
     "outputs": [],
     "prompt_number": 255
    },
    {
     "cell_type": "code",
     "collapsed": false,
     "input": [
      "funder_frequencies = train_data.groupby('funder').size()\n",
      "funder_frequencies.sort(ascending=False)\n",
      "funder_frequencies.apply(lambda f: f/(N*1.0))"
     ],
     "language": "python",
     "metadata": {},
     "outputs": [],
     "prompt_number": 271
    },
    {
     "cell_type": "code",
     "collapsed": false,
     "input": [
      "# Given a category (column in train_data), return a Pandas series\n",
      "# that has the percentage of each well status for each item\n",
      "# e.g. frequencies('source_class') returns the percentage of each well type\n",
      "# for 'groundwater', 'surface', and 'unknown'\n",
      "def frequencies(category):\n",
      "    cat_frequencies = train_data.groupby(category).size()\n",
      "    cat_frequencies.sort(ascending=False)\n",
      "    cat_percents = cat_frequencies.apply(lambda f: (100.0*f)/(N*1.0))\n",
      "    return cat_percents"
     ],
     "language": "python",
     "metadata": {},
     "outputs": [],
     "prompt_number": 284
    },
    {
     "cell_type": "code",
     "collapsed": false,
     "input": [
      "train_data.columns"
     ],
     "language": "python",
     "metadata": {},
     "outputs": [
      {
       "metadata": {},
       "output_type": "pyout",
       "prompt_number": 285,
       "text": [
        "Index([u'id', u'amount_tsh', u'date_recorded', u'funder', u'gps_height', u'installer', u'longitude', u'latitude', u'wpt_name', u'num_private', u'basin', u'subvillage', u'region', u'region_code', u'district_code', u'lga', u'ward', u'population', u'public_meeting', u'recorded_by', u'scheme_management', u'scheme_name', u'permit', u'construction_year', u'extraction_type', u'extraction_type_group', u'extraction_type_class', u'management', u'management_group', u'payment', u'payment_type', u'water_quality', u'quality_group', u'quantity', u'quantity_group', u'source', u'source_type', u'source_class', u'waterpoint_type', u'waterpoint_type_group'], dtype='object')"
       ]
      }
     ],
     "prompt_number": 285
    },
    {
     "cell_type": "code",
     "collapsed": false,
     "input": [
      "asdf = frequencies('waterpoint_type')"
     ],
     "language": "python",
     "metadata": {},
     "outputs": [],
     "prompt_number": 458
    },
    {
     "cell_type": "code",
     "collapsed": false,
     "input": [
      "frequencies('waterpoint_type_group')"
     ],
     "language": "python",
     "metadata": {},
     "outputs": [
      {
       "metadata": {},
       "output_type": "pyout",
       "prompt_number": 476,
       "text": [
        "waterpoint_type_group\n",
        "communal standpipe       58.291246\n",
        "hand pump                29.441077\n",
        "other                    10.740741\n",
        "improved spring           1.319865\n",
        "cattle trough             0.195286\n",
        "dam                       0.011785\n",
        "dtype: float64"
       ]
      }
     ],
     "prompt_number": 476
    },
    {
     "cell_type": "code",
     "collapsed": false,
     "input": [
      "category = 'amount_tsh'\n",
      "status_groups = ['functional', 'functional needs repair', 'non functional']\n",
      "freq = frequencies(category)\n",
      "plt.figure()\n",
      "ratios = np.zeros((freq.shape[0],3),dtype=np.float)\n",
      "rerrs = np.zeros(ratios.shape,dtype=np.float)\n",
      "for i,label in enumerate(freq.axes[0]):\n",
      "    a=train_labels[train_data[category]==label].groupby('status_group').size()\n",
      "    missing = np.setdiff1d(status_groups,list(a.axes[0]))\n",
      "    a = a.append(pd.Series(np.zeros(missing.shape),missing))\n",
      "    ratios[i,:] = np.array([a['functional'],a['functional needs repair'],a['non functional']],dtype=np.float)/np.sum(a)\n",
      "    rerrs[i,:] = np.sqrt(ratios[i,:]*np.sum(a))/np.sum(a)\n",
      "for j,c in enumerate(['green','red','yellow']):\n",
      "    plt.bar(np.arange(0,i+1)+0.3*j,ratios[:,j],width=0.3,color=c,yerr=rerrs[:,j],error_kw=dict(ecolor='black'))\n",
      "plt.gca().xaxis.set_ticklabels(freq.axes[0])\n",
      "plt.gca().set_xticks(np.arange(0,i+1)+0.5)\n",
      "plt.gca().set_title(category).set_fontsize(18)"
     ],
     "language": "python",
     "metadata": {},
     "outputs": [],
     "prompt_number": 557
    },
    {
     "cell_type": "code",
     "collapsed": false,
     "input": [
      "# Produces a bar chart that visually compares the percentage of each \n",
      "# well type for each label appearing in the given category (see frequencies)\n",
      "# NB: Categories appear in descending order of how many times they occur\n",
      "def category_bars(category):\n",
      "    status_groups = ['functional', 'functional needs repair', 'non functional']\n",
      "    freq = frequencies(category)\n",
      "    plt.figure()\n",
      "    ratios = np.zeros((freq.shape[0],3),dtype=np.float)\n",
      "    rerrs = np.zeros(ratios.shape,dtype=np.float)\n",
      "    for i,label in enumerate(freq.axes[0]):\n",
      "        a=train_labels[train_data[category]==label].groupby('status_group').size()\n",
      "        missing = np.setdiff1d(status_groups,list(a.axes[0]))\n",
      "        a = a.append(pd.Series(np.zeros(missing.shape),missing))\n",
      "        ratios[i,:] = np.array([a['functional'],a['functional needs repair'],a['non functional']],dtype=np.float)/np.sum(a)\n",
      "        rerrs[i,:] = np.sqrt(ratios[i,:]*np.sum(a))/np.sum(a)\n",
      "    for j,c in enumerate(['green','red','yellow']):\n",
      "        plt.bar(np.arange(0,i+1)+0.3*j,ratios[:,j],width=0.3,color=c,yerr=rerrs[:,j],error_kw=dict(ecolor='black'))\n",
      "    plt.gca().xaxis.set_ticklabels(freq.axes[0])\n",
      "    plt.gca().set_xticks(np.arange(0,i+1)+0.5)\n",
      "    plt.gca().set_title(category).set_fontsize(18)"
     ],
     "language": "python",
     "metadata": {},
     "outputs": [],
     "prompt_number": 558
    },
    {
     "cell_type": "code",
     "collapsed": false,
     "input": [
      "# For a Python list of all categories\n",
      "cats = []\n",
      "for cat in train_data.columns:\n",
      "    cats += [cat]"
     ],
     "language": "python",
     "metadata": {},
     "outputs": [],
     "prompt_number": 565
    },
    {
     "cell_type": "code",
     "collapsed": false,
     "input": [
      "cats"
     ],
     "language": "python",
     "metadata": {},
     "outputs": [
      {
       "metadata": {},
       "output_type": "pyout",
       "prompt_number": 566,
       "text": [
        "['id',\n",
        " 'amount_tsh',\n",
        " 'date_recorded',\n",
        " 'funder',\n",
        " 'gps_height',\n",
        " 'installer',\n",
        " 'longitude',\n",
        " 'latitude',\n",
        " 'wpt_name',\n",
        " 'num_private',\n",
        " 'basin',\n",
        " 'subvillage',\n",
        " 'region',\n",
        " 'region_code',\n",
        " 'district_code',\n",
        " 'lga',\n",
        " 'ward',\n",
        " 'population',\n",
        " 'public_meeting',\n",
        " 'recorded_by',\n",
        " 'scheme_management',\n",
        " 'scheme_name',\n",
        " 'permit',\n",
        " 'construction_year',\n",
        " 'extraction_type',\n",
        " 'extraction_type_group',\n",
        " 'extraction_type_class',\n",
        " 'management',\n",
        " 'management_group',\n",
        " 'payment',\n",
        " 'payment_type',\n",
        " 'water_quality',\n",
        " 'quality_group',\n",
        " 'quantity',\n",
        " 'quantity_group',\n",
        " 'source',\n",
        " 'source_type',\n",
        " 'source_class',\n",
        " 'waterpoint_type',\n",
        " 'waterpoint_type_group']"
       ]
      }
     ],
     "prompt_number": 566
    },
    {
     "cell_type": "code",
     "collapsed": false,
     "input": [
      "# A list of all feature columns that are unique, have more than one\n",
      "# value, and have more than one well per value\n",
      "# NB: Many of these are probably unsuitable for direct use\n",
      "cats = [\n",
      " 'funder',\n",
      " 'installer',\n",
      " 'basin',\n",
      " 'region',\n",
      " 'region_code',\n",
      " 'district_code',\n",
      " 'population',\n",
      " 'public_meeting',\n",
      " 'scheme_management',\n",
      " 'scheme_name',\n",
      " 'permit',\n",
      " 'construction_year',\n",
      " 'extraction_type',\n",
      " 'extraction_type_group',\n",
      " 'extraction_type_class',\n",
      " 'management',\n",
      " 'management_group',\n",
      " 'payment',\n",
      " 'payment_type',\n",
      " 'water_quality',\n",
      " 'quality_group',\n",
      " 'quantity',\n",
      " 'quantity_group',\n",
      " 'source',\n",
      " 'source_type',\n",
      " 'source_class',\n",
      " 'waterpoint_type',\n",
      " 'waterpoint_type_group']"
     ],
     "language": "python",
     "metadata": {},
     "outputs": [],
     "prompt_number": 567
    },
    {
     "cell_type": "code",
     "collapsed": false,
     "input": [
      "# Generate bar charts for each category\n",
      "# Warning: Creates a lot of figures!\n",
      "# Warning: Takes a minute or two... some charts have thousands of bars!\n",
      "for cat in cats:\n",
      "    category_bars(cat)"
     ],
     "language": "python",
     "metadata": {},
     "outputs": [
      {
       "output_type": "stream",
       "stream": "stderr",
       "text": [
        "/usr/lib/pymodules/python2.7/matplotlib/pyplot.py:412: RuntimeWarning: More than 20 figures have been opened. Figures created through the pyplot interface (`matplotlib.pyplot.figure`) are retained until explicitly closed and may consume too much memory. (To control this warning, see the rcParam `figure.max_num_figures`).\n",
        "  max_open_warning, RuntimeWarning)\n"
       ]
      }
     ],
     "prompt_number": 568
    },
    {
     "cell_type": "code",
     "collapsed": false,
     "input": [
      "train_labels.groupby('status_group').count()/(1.0*N)"
     ],
     "language": "python",
     "metadata": {},
     "outputs": [
      {
       "html": [
        "<div style=\"max-height:1000px;max-width:1500px;overflow:auto;\">\n",
        "<table border=\"1\" class=\"dataframe\">\n",
        "  <thead>\n",
        "    <tr style=\"text-align: right;\">\n",
        "      <th></th>\n",
        "      <th>id</th>\n",
        "    </tr>\n",
        "    <tr>\n",
        "      <th>status_group</th>\n",
        "      <th></th>\n",
        "    </tr>\n",
        "  </thead>\n",
        "  <tbody>\n",
        "    <tr>\n",
        "      <th>functional</th>\n",
        "      <td> 0.543081</td>\n",
        "    </tr>\n",
        "    <tr>\n",
        "      <th>functional needs repair</th>\n",
        "      <td> 0.072677</td>\n",
        "    </tr>\n",
        "    <tr>\n",
        "      <th>non functional</th>\n",
        "      <td> 0.384242</td>\n",
        "    </tr>\n",
        "  </tbody>\n",
        "</table>\n",
        "</div>"
       ],
       "metadata": {},
       "output_type": "pyout",
       "prompt_number": 1827,
       "text": [
        "                               id\n",
        "status_group                     \n",
        "functional               0.543081\n",
        "functional needs repair  0.072677\n",
        "non functional           0.384242"
       ]
      }
     ],
     "prompt_number": 1827
    },
    {
     "cell_type": "code",
     "collapsed": false,
     "input": [],
     "language": "python",
     "metadata": {},
     "outputs": [],
     "prompt_number": 581
    },
    {
     "cell_type": "code",
     "collapsed": false,
     "input": [],
     "language": "python",
     "metadata": {},
     "outputs": [],
     "prompt_number": 581
    },
    {
     "cell_type": "code",
     "collapsed": false,
     "input": [],
     "language": "python",
     "metadata": {},
     "outputs": [],
     "prompt_number": 581
    },
    {
     "cell_type": "code",
     "collapsed": false,
     "input": [],
     "language": "python",
     "metadata": {},
     "outputs": [],
     "prompt_number": 581
    },
    {
     "cell_type": "code",
     "collapsed": false,
     "input": [],
     "language": "python",
     "metadata": {},
     "outputs": [],
     "prompt_number": 581
    },
    {
     "cell_type": "code",
     "collapsed": false,
     "input": [],
     "language": "python",
     "metadata": {},
     "outputs": [],
     "prompt_number": 581
    },
    {
     "cell_type": "code",
     "collapsed": false,
     "input": [],
     "language": "python",
     "metadata": {},
     "outputs": [],
     "prompt_number": 581
    },
    {
     "cell_type": "code",
     "collapsed": false,
     "input": [],
     "language": "python",
     "metadata": {},
     "outputs": [],
     "prompt_number": 580
    },
    {
     "cell_type": "code",
     "collapsed": false,
     "input": [
      "plt.gcf().tight_layout()"
     ],
     "language": "python",
     "metadata": {},
     "outputs": [],
     "prompt_number": 581
    },
    {
     "cell_type": "code",
     "collapsed": false,
     "input": [],
     "language": "python",
     "metadata": {},
     "outputs": []
    }
   ],
   "metadata": {}
  }
 ]
}